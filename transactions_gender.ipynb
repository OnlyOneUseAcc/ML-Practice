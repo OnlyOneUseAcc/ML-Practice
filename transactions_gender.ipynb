{
  "nbformat": 4,
  "nbformat_minor": 0,
  "metadata": {
    "kernelspec": {
      "display_name": "Python 3",
      "language": "python",
      "name": "python3"
    },
    "language_info": {
      "codemirror_mode": {
        "name": "ipython",
        "version": 3
      },
      "file_extension": ".py",
      "mimetype": "text/x-python",
      "name": "python",
      "nbconvert_exporter": "python",
      "pygments_lexer": "ipython3",
      "version": "3.6.5"
    },
    "toc": {
      "base_numbering": 1,
      "nav_menu": {},
      "number_sections": true,
      "sideBar": true,
      "skip_h1_title": false,
      "title_cell": "Table of Contents",
      "title_sidebar": "Contents",
      "toc_cell": false,
      "toc_position": {},
      "toc_section_display": true,
      "toc_window_display": false
    },
    "colab": {
      "name": "transactions_gender.ipynb\"",
      "provenance": [],
      "collapsed_sections": []
    }
  },
  "cells": [
    {
      "cell_type": "markdown",
      "metadata": {
        "id": "W85i4fC7srcf"
      },
      "source": [
        "# Общее задание"
      ]
    },
    {
      "cell_type": "markdown",
      "metadata": {
        "id": "tIXprGNhsvTG"
      },
      "source": [
        "Нужно решить задачу бинарной классификации, предварительно построив признаковое описание объектов на основе нескольких таблиц. \r\n",
        "\r\n",
        "Целевая переменная - пол клиента.\r\n",
        "\r\n",
        "В качестве модели нужно использовать нейронную сеть, которую нужно строить с помощью `keras` или `torch` на выбор студента."
      ]
    },
    {
      "cell_type": "markdown",
      "metadata": {
        "id": "G5nnK3tftPvc"
      },
      "source": [
        "# Данные"
      ]
    },
    {
      "cell_type": "markdown",
      "metadata": {
        "id": "y8f3_l3KtSUh"
      },
      "source": [
        "Для всех последующих заданий будем использовать обезличенные транзакционные банковские данные. Для этого считайте в переменные **transactions, tr_mcc_codes и gender_train** из одноимённых таблиц из папки data. Для таблицы transactions используйте только первые n=1000000 строк."
      ]
    },
    {
      "cell_type": "markdown",
      "metadata": {
        "id": "OFP_i1F1Lqay"
      },
      "source": [
        "## Задание 1\n",
        "\n",
        "В задании требуется на основе нескольких таблиц с данными сделать признаковое описание объектов. \n",
        "\n",
        "Объектами являются клиенты. Клиенты идентифицируются с помощью `customer_id`, которые есть в таблицах **transactions** и **gender_train**. В качестве призаков нужно использовать даннее по категориям транзаций: ```mcc_code``` — mcc-код транзакции есть в таблицах **transactions** и **tr_mcc_codes**\n"
      ]
    },
    {
      "cell_type": "markdown",
      "metadata": {
        "id": "oPqeeOiFUvA2"
      },
      "source": [
        "Список категорий\r\n",
        "['Ювелирные изделия', 'Ремонт', 'Отели', 'Автозапчасти, Автошины и Станции техобслуживания (а также СТО)', 'Алименты', 'Магазины косметики и Салоны красоты', 'Аптеки']\r\n",
        "В качестве значений признаков используйте сумму по транзакциям с тратами и сумму по транзакциям с поступлениями"
      ]
    },
    {
      "cell_type": "markdown",
      "metadata": {
        "id": "3V5SzWwN7k8F"
      },
      "source": [
        "Каждая категория может быть связана с одним или несколькими mcc-кодами. Например, вот несколько mcc-кодов по категории \"Одежда\": \r\n",
        "* 5621; Готовая женская одежда\r\n",
        "* 5641; Детская одежда\r\n",
        "* 5651; Одежда для всей семьи"
      ]
    },
    {
      "cell_type": "markdown",
      "metadata": {
        "id": "xgFGtCDIvU4m"
      },
      "source": [
        "Таким образом получится 14 признаков, то есть семь категорий, каждая из которых даст два значения: траты и поступления. Например, категория \"Одежда\" даёт признаки \"Одежда траты\" и \"Одежда поступления\"."
      ]
    },
    {
      "cell_type": "markdown",
      "metadata": {
        "id": "xGC6oWTyv9S4"
      },
      "source": [
        "Сделайте нормализацию значений признаков так, чтобы все означения менялись от 0 до 1. "
      ]
    },
    {
      "cell_type": "code",
      "metadata": {
        "id": "pRsuC7st4m6K"
      },
      "source": [
        "import pandas as pd\r\n",
        "import numpy as np\r\n",
        "from pydrive.auth import GoogleAuth\r\n",
        "from pydrive.drive import GoogleDrive\r\n",
        "from google.colab import auth\r\n",
        "from oauth2client.client import GoogleCredentials\r\n",
        "\r\n",
        "auth.authenticate_user()\r\n",
        "gauth = GoogleAuth()\r\n",
        "gauth.credentials = GoogleCredentials.get_application_default()\r\n",
        "drive = GoogleDrive(gauth)\r\n",
        "\r\n",
        "downloaded = drive.CreateFile({'id':\"1kYYRWFmQSeE_MfRUOO1JjrU5uskf9Co3\"})   # замените id на id своего файла\r\n",
        "downloaded.GetContentFile('transactions.csv')\r\n",
        "transactions = pd.read_csv('transactions.csv',   nrows=1000000)\r\n",
        "\r\n",
        "\r\n",
        "downloaded = drive.CreateFile({'id':\"1csB_Jb20q7Cn3pF-4ZH_R1NOE9fhswyZ\"})   # замените id на id своего файла\r\n",
        "downloaded.GetContentFile('gender_train.csv')\r\n",
        "gender_train = pd.read_csv('gender_train.csv')\r\n",
        "\r\n",
        "downloaded = drive.CreateFile({'id':\"16g6aSiirBY-CnrvDwPEs39TFH3UTSyjT\"})   # замените id на id своего файла\r\n",
        "downloaded.GetContentFile('tr_mcc_codes.csv')\r\n",
        "tr_mcc_codes = pd.read_csv('tr_mcc_codes.csv', sep=';')\r\n",
        "\r\n",
        "downloaded = drive.CreateFile({'id':\"1K-3_yIdT0viRygRx1E1e3b1dGw8w67-j\"})   # замените id на id своего файла\r\n",
        "downloaded.GetContentFile('tr_types.csv')\r\n",
        "tr_types = pd.read_csv('tr_types.csv', sep=\";\")"
      ],
      "execution_count": null,
      "outputs": []
    },
    {
      "cell_type": "code",
      "metadata": {
        "colab": {
          "base_uri": "https://localhost:8080/",
          "height": 356
        },
        "id": "L73O1MLD5Mfl",
        "outputId": "54a04b74-51df-4cc4-fec5-fe5d41d0c2b8"
      },
      "source": [
        "transactions.sample(n=10)"
      ],
      "execution_count": null,
      "outputs": [
        {
          "output_type": "execute_result",
          "data": {
            "text/html": [
              "<div>\n",
              "<style scoped>\n",
              "    .dataframe tbody tr th:only-of-type {\n",
              "        vertical-align: middle;\n",
              "    }\n",
              "\n",
              "    .dataframe tbody tr th {\n",
              "        vertical-align: top;\n",
              "    }\n",
              "\n",
              "    .dataframe thead th {\n",
              "        text-align: right;\n",
              "    }\n",
              "</style>\n",
              "<table border=\"1\" class=\"dataframe\">\n",
              "  <thead>\n",
              "    <tr style=\"text-align: right;\">\n",
              "      <th></th>\n",
              "      <th>customer_id</th>\n",
              "      <th>tr_datetime</th>\n",
              "      <th>mcc_code</th>\n",
              "      <th>tr_type</th>\n",
              "      <th>amount</th>\n",
              "      <th>term_id</th>\n",
              "    </tr>\n",
              "  </thead>\n",
              "  <tbody>\n",
              "    <tr>\n",
              "      <th>494085</th>\n",
              "      <td>40133287</td>\n",
              "      <td>414 15:39:52</td>\n",
              "      <td>5411</td>\n",
              "      <td>1010</td>\n",
              "      <td>-4417.72</td>\n",
              "      <td>067864</td>\n",
              "    </tr>\n",
              "    <tr>\n",
              "      <th>734033</th>\n",
              "      <td>39351532</td>\n",
              "      <td>390 16:59:59</td>\n",
              "      <td>5411</td>\n",
              "      <td>1010</td>\n",
              "      <td>-25828.03</td>\n",
              "      <td>10179467</td>\n",
              "    </tr>\n",
              "    <tr>\n",
              "      <th>387063</th>\n",
              "      <td>70780820</td>\n",
              "      <td>108 09:59:23</td>\n",
              "      <td>6010</td>\n",
              "      <td>7030</td>\n",
              "      <td>6558.07</td>\n",
              "      <td>NaN</td>\n",
              "    </tr>\n",
              "    <tr>\n",
              "      <th>552845</th>\n",
              "      <td>62030642</td>\n",
              "      <td>318 13:31:01</td>\n",
              "      <td>6011</td>\n",
              "      <td>2010</td>\n",
              "      <td>-26950.99</td>\n",
              "      <td>650211</td>\n",
              "    </tr>\n",
              "    <tr>\n",
              "      <th>746942</th>\n",
              "      <td>701335</td>\n",
              "      <td>357 18:10:59</td>\n",
              "      <td>4829</td>\n",
              "      <td>4071</td>\n",
              "      <td>-224.59</td>\n",
              "      <td>888901</td>\n",
              "    </tr>\n",
              "    <tr>\n",
              "      <th>837860</th>\n",
              "      <td>67818644</td>\n",
              "      <td>128 16:37:25</td>\n",
              "      <td>6011</td>\n",
              "      <td>2011</td>\n",
              "      <td>-33688.74</td>\n",
              "      <td>NaN</td>\n",
              "    </tr>\n",
              "    <tr>\n",
              "      <th>113915</th>\n",
              "      <td>8928713</td>\n",
              "      <td>192 17:51:39</td>\n",
              "      <td>6011</td>\n",
              "      <td>2010</td>\n",
              "      <td>-89836.63</td>\n",
              "      <td>NaN</td>\n",
              "    </tr>\n",
              "    <tr>\n",
              "      <th>36390</th>\n",
              "      <td>55045775</td>\n",
              "      <td>63 00:00:00</td>\n",
              "      <td>7011</td>\n",
              "      <td>1110</td>\n",
              "      <td>-79550.34</td>\n",
              "      <td>NaN</td>\n",
              "    </tr>\n",
              "    <tr>\n",
              "      <th>937875</th>\n",
              "      <td>2208164</td>\n",
              "      <td>124 14:26:01</td>\n",
              "      <td>4829</td>\n",
              "      <td>2370</td>\n",
              "      <td>-6531.80</td>\n",
              "      <td>NaN</td>\n",
              "    </tr>\n",
              "    <tr>\n",
              "      <th>45357</th>\n",
              "      <td>84027814</td>\n",
              "      <td>292 16:31:18</td>\n",
              "      <td>8999</td>\n",
              "      <td>1010</td>\n",
              "      <td>-1122.96</td>\n",
              "      <td>10166202</td>\n",
              "    </tr>\n",
              "  </tbody>\n",
              "</table>\n",
              "</div>"
            ],
            "text/plain": [
              "        customer_id   tr_datetime  mcc_code  tr_type    amount   term_id\n",
              "494085     40133287  414 15:39:52      5411     1010  -4417.72    067864\n",
              "734033     39351532  390 16:59:59      5411     1010 -25828.03  10179467\n",
              "387063     70780820  108 09:59:23      6010     7030   6558.07       NaN\n",
              "552845     62030642  318 13:31:01      6011     2010 -26950.99    650211\n",
              "746942       701335  357 18:10:59      4829     4071   -224.59    888901\n",
              "837860     67818644  128 16:37:25      6011     2011 -33688.74       NaN\n",
              "113915      8928713  192 17:51:39      6011     2010 -89836.63       NaN\n",
              "36390      55045775   63 00:00:00      7011     1110 -79550.34       NaN\n",
              "937875      2208164  124 14:26:01      4829     2370  -6531.80       NaN\n",
              "45357      84027814  292 16:31:18      8999     1010  -1122.96  10166202"
            ]
          },
          "metadata": {
            "tags": []
          },
          "execution_count": 8
        }
      ]
    },
    {
      "cell_type": "code",
      "metadata": {
        "colab": {
          "base_uri": "https://localhost:8080/",
          "height": 202
        },
        "id": "toUd0Wth5Qs-",
        "outputId": "0f46d6c5-4fd0-4c9d-a360-2f3f3ed337d8"
      },
      "source": [
        "gender_train.sample(n=5)"
      ],
      "execution_count": null,
      "outputs": [
        {
          "output_type": "execute_result",
          "data": {
            "text/html": [
              "<div>\n",
              "<style scoped>\n",
              "    .dataframe tbody tr th:only-of-type {\n",
              "        vertical-align: middle;\n",
              "    }\n",
              "\n",
              "    .dataframe tbody tr th {\n",
              "        vertical-align: top;\n",
              "    }\n",
              "\n",
              "    .dataframe thead th {\n",
              "        text-align: right;\n",
              "    }\n",
              "</style>\n",
              "<table border=\"1\" class=\"dataframe\">\n",
              "  <thead>\n",
              "    <tr style=\"text-align: right;\">\n",
              "      <th></th>\n",
              "      <th>customer_id</th>\n",
              "      <th>gender</th>\n",
              "    </tr>\n",
              "  </thead>\n",
              "  <tbody>\n",
              "    <tr>\n",
              "      <th>5566</th>\n",
              "      <td>4466684</td>\n",
              "      <td>1</td>\n",
              "    </tr>\n",
              "    <tr>\n",
              "      <th>6358</th>\n",
              "      <td>99787257</td>\n",
              "      <td>0</td>\n",
              "    </tr>\n",
              "    <tr>\n",
              "      <th>6613</th>\n",
              "      <td>22717722</td>\n",
              "      <td>0</td>\n",
              "    </tr>\n",
              "    <tr>\n",
              "      <th>1032</th>\n",
              "      <td>48413853</td>\n",
              "      <td>0</td>\n",
              "    </tr>\n",
              "    <tr>\n",
              "      <th>4356</th>\n",
              "      <td>82615859</td>\n",
              "      <td>1</td>\n",
              "    </tr>\n",
              "  </tbody>\n",
              "</table>\n",
              "</div>"
            ],
            "text/plain": [
              "      customer_id  gender\n",
              "5566      4466684       1\n",
              "6358     99787257       0\n",
              "6613     22717722       0\n",
              "1032     48413853       0\n",
              "4356     82615859       1"
            ]
          },
          "metadata": {
            "tags": []
          },
          "execution_count": 9
        }
      ]
    },
    {
      "cell_type": "code",
      "metadata": {
        "colab": {
          "base_uri": "https://localhost:8080/"
        },
        "id": "NNKNYzNZF1rq",
        "outputId": "0eea3ab7-3767-4881-c58b-734b10300bb3"
      },
      "source": [
        "gender_train.isna().sum()"
      ],
      "execution_count": null,
      "outputs": [
        {
          "output_type": "execute_result",
          "data": {
            "text/plain": [
              "customer_id    0\n",
              "gender         0\n",
              "dtype: int64"
            ]
          },
          "metadata": {
            "tags": []
          },
          "execution_count": 75
        }
      ]
    },
    {
      "cell_type": "code",
      "metadata": {
        "colab": {
          "base_uri": "https://localhost:8080/"
        },
        "id": "Rzt58ewf4RuF",
        "outputId": "59f538dc-6f4d-4770-f67e-d0a5c4378759"
      },
      "source": [
        "my_list = feature_list[::-2]\r\n"
      ],
      "execution_count": null,
      "outputs": [
        {
          "output_type": "execute_result",
          "data": {
            "text/plain": [
              "['ювелирные изделия',\n",
              " 'ремонт',\n",
              " 'отели',\n",
              " 'автозапчасти, автошины и станции техобслуживания (а также сто)',\n",
              " 'алименты',\n",
              " 'магазины косметики и салоны красоты',\n",
              " 'аптеки']"
            ]
          },
          "metadata": {
            "tags": []
          },
          "execution_count": 40
        }
      ]
    },
    {
      "cell_type": "code",
      "metadata": {
        "colab": {
          "base_uri": "https://localhost:8080/",
          "height": 356
        },
        "id": "3OnZ6E1Q5WYc",
        "outputId": "3e3ce961-0e92-48f5-ba7f-38fb12169823"
      },
      "source": [
        "tr_mcc_codes.sample(n=10)"
      ],
      "execution_count": null,
      "outputs": [
        {
          "output_type": "execute_result",
          "data": {
            "text/html": [
              "<div>\n",
              "<style scoped>\n",
              "    .dataframe tbody tr th:only-of-type {\n",
              "        vertical-align: middle;\n",
              "    }\n",
              "\n",
              "    .dataframe tbody tr th {\n",
              "        vertical-align: top;\n",
              "    }\n",
              "\n",
              "    .dataframe thead th {\n",
              "        text-align: right;\n",
              "    }\n",
              "</style>\n",
              "<table border=\"1\" class=\"dataframe\">\n",
              "  <thead>\n",
              "    <tr style=\"text-align: right;\">\n",
              "      <th></th>\n",
              "      <th>mcc_code</th>\n",
              "      <th>mcc_description</th>\n",
              "    </tr>\n",
              "  </thead>\n",
              "  <tbody>\n",
              "    <tr>\n",
              "      <th>106</th>\n",
              "      <td>5949</td>\n",
              "      <td>Магазины ткани, ниток рукоделия, шитья</td>\n",
              "    </tr>\n",
              "    <tr>\n",
              "      <th>37</th>\n",
              "      <td>5122</td>\n",
              "      <td>Лекарства, их распространители, аптеки</td>\n",
              "    </tr>\n",
              "    <tr>\n",
              "      <th>52</th>\n",
              "      <td>5310</td>\n",
              "      <td>Магазины, торгующие по сниженным ценам</td>\n",
              "    </tr>\n",
              "    <tr>\n",
              "      <th>12</th>\n",
              "      <td>4214</td>\n",
              "      <td>Агентства по автотранспортным перевозкам, мест...</td>\n",
              "    </tr>\n",
              "    <tr>\n",
              "      <th>168</th>\n",
              "      <td>8043</td>\n",
              "      <td>Оптика, оптические товары и очки</td>\n",
              "    </tr>\n",
              "    <tr>\n",
              "      <th>41</th>\n",
              "      <td>5172</td>\n",
              "      <td>Нефть и нефтепродукты</td>\n",
              "    </tr>\n",
              "    <tr>\n",
              "      <th>140</th>\n",
              "      <td>7311</td>\n",
              "      <td>Рекламные услуги</td>\n",
              "    </tr>\n",
              "    <tr>\n",
              "      <th>176</th>\n",
              "      <td>8641</td>\n",
              "      <td>Ассоциации — гражданские, социальные и братские</td>\n",
              "    </tr>\n",
              "    <tr>\n",
              "      <th>121</th>\n",
              "      <td>5995</td>\n",
              "      <td>Зоомагазины</td>\n",
              "    </tr>\n",
              "    <tr>\n",
              "      <th>123</th>\n",
              "      <td>6010</td>\n",
              "      <td>Финансовые институты — снятие наличности вручную</td>\n",
              "    </tr>\n",
              "  </tbody>\n",
              "</table>\n",
              "</div>"
            ],
            "text/plain": [
              "     mcc_code                                    mcc_description\n",
              "106      5949             Магазины ткани, ниток рукоделия, шитья\n",
              "37       5122             Лекарства, их распространители, аптеки\n",
              "52       5310             Магазины, торгующие по сниженным ценам\n",
              "12       4214  Агентства по автотранспортным перевозкам, мест...\n",
              "168      8043                   Оптика, оптические товары и очки\n",
              "41       5172                              Нефть и нефтепродукты\n",
              "140      7311                                   Рекламные услуги\n",
              "176      8641    Ассоциации — гражданские, социальные и братские\n",
              "121      5995                                        Зоомагазины\n",
              "123      6010   Финансовые институты — снятие наличности вручную"
            ]
          },
          "metadata": {
            "tags": []
          },
          "execution_count": 45
        }
      ]
    },
    {
      "cell_type": "code",
      "metadata": {
        "id": "J-PFhZBB6xaG"
      },
      "source": [
        "import re\r\n",
        "jevelery_code = tr_mcc_codes[tr_mcc_codes['mcc_description'].str.contains('ювелир', flags=re.IGNORECASE) ]['mcc_code']\r\n",
        "fix_code = tr_mcc_codes[tr_mcc_codes['mcc_description'].str.contains('ремонт|почин|восстанов', flags=re.IGNORECASE)]['mcc_code']\r\n",
        "hotel_code = tr_mcc_codes[tr_mcc_codes['mcc_description'].str.contains('отел|хостел|мотел', flags=re.IGNORECASE)]['mcc_code']\r\n",
        "car_code = tr_mcc_codes[tr_mcc_codes['mcc_description'].str.contains('автозапчаст|автошин|шин|сто |техобслуж', flags=re.IGNORECASE)]['mcc_code']\r\n",
        "tax_code = tr_mcc_codes[tr_mcc_codes['mcc_description'].str.contains('алимент', flags=re.IGNORECASE)]['mcc_code']\r\n",
        "biauty_code = tr_mcc_codes[tr_mcc_codes['mcc_description'].str.contains('космет|красот|парикхм|парфюм', flags=re.IGNORECASE)]['mcc_code']\r\n",
        "farm = tr_mcc_codes[tr_mcc_codes['mcc_description'].str.contains('аптек|фарма', flags=re.IGNORECASE)]['mcc_code']\r\n"
      ],
      "execution_count": null,
      "outputs": []
    },
    {
      "cell_type": "code",
      "metadata": {
        "id": "MzdJdG0VEDOj"
      },
      "source": [
        "transactions = pd.merge(transactions[['amount','customer_id','mcc_code']], \r\n",
        "                        tr_mcc_codes.drop(columns=['mcc_description']), how='left')\r\n",
        "\r\n"
      ],
      "execution_count": null,
      "outputs": []
    },
    {
      "cell_type": "code",
      "metadata": {
        "colab": {
          "base_uri": "https://localhost:8080/",
          "height": 356
        },
        "id": "xKVppU-EG43Y",
        "outputId": "33a693c9-9ae9-41af-fe84-ff0d199b18c7"
      },
      "source": [
        "transactions.sample(n=10)"
      ],
      "execution_count": null,
      "outputs": [
        {
          "output_type": "execute_result",
          "data": {
            "text/html": [
              "<div>\n",
              "<style scoped>\n",
              "    .dataframe tbody tr th:only-of-type {\n",
              "        vertical-align: middle;\n",
              "    }\n",
              "\n",
              "    .dataframe tbody tr th {\n",
              "        vertical-align: top;\n",
              "    }\n",
              "\n",
              "    .dataframe thead th {\n",
              "        text-align: right;\n",
              "    }\n",
              "</style>\n",
              "<table border=\"1\" class=\"dataframe\">\n",
              "  <thead>\n",
              "    <tr style=\"text-align: right;\">\n",
              "      <th></th>\n",
              "      <th>amount</th>\n",
              "      <th>customer_id</th>\n",
              "      <th>mcc_code</th>\n",
              "    </tr>\n",
              "  </thead>\n",
              "  <tbody>\n",
              "    <tr>\n",
              "      <th>899853</th>\n",
              "      <td>-1122.96</td>\n",
              "      <td>117556</td>\n",
              "      <td>4814</td>\n",
              "    </tr>\n",
              "    <tr>\n",
              "      <th>737709</th>\n",
              "      <td>-13003.85</td>\n",
              "      <td>43394138</td>\n",
              "      <td>5812</td>\n",
              "    </tr>\n",
              "    <tr>\n",
              "      <th>587275</th>\n",
              "      <td>-2463.77</td>\n",
              "      <td>61853422</td>\n",
              "      <td>5912</td>\n",
              "    </tr>\n",
              "    <tr>\n",
              "      <th>807132</th>\n",
              "      <td>-7860.71</td>\n",
              "      <td>87069325</td>\n",
              "      <td>4814</td>\n",
              "    </tr>\n",
              "    <tr>\n",
              "      <th>843679</th>\n",
              "      <td>-2245.92</td>\n",
              "      <td>74630945</td>\n",
              "      <td>4814</td>\n",
              "    </tr>\n",
              "    <tr>\n",
              "      <th>114185</th>\n",
              "      <td>-20213.24</td>\n",
              "      <td>8928713</td>\n",
              "      <td>6011</td>\n",
              "    </tr>\n",
              "    <tr>\n",
              "      <th>760650</th>\n",
              "      <td>-2245.92</td>\n",
              "      <td>54186907</td>\n",
              "      <td>4814</td>\n",
              "    </tr>\n",
              "    <tr>\n",
              "      <th>291823</th>\n",
              "      <td>-51656.06</td>\n",
              "      <td>76282911</td>\n",
              "      <td>6011</td>\n",
              "    </tr>\n",
              "    <tr>\n",
              "      <th>43814</th>\n",
              "      <td>-1122.96</td>\n",
              "      <td>2314154</td>\n",
              "      <td>4814</td>\n",
              "    </tr>\n",
              "    <tr>\n",
              "      <th>356251</th>\n",
              "      <td>-26647.79</td>\n",
              "      <td>17992634</td>\n",
              "      <td>5541</td>\n",
              "    </tr>\n",
              "  </tbody>\n",
              "</table>\n",
              "</div>"
            ],
            "text/plain": [
              "          amount  customer_id  mcc_code\n",
              "899853  -1122.96       117556      4814\n",
              "737709 -13003.85     43394138      5812\n",
              "587275  -2463.77     61853422      5912\n",
              "807132  -7860.71     87069325      4814\n",
              "843679  -2245.92     74630945      4814\n",
              "114185 -20213.24      8928713      6011\n",
              "760650  -2245.92     54186907      4814\n",
              "291823 -51656.06     76282911      6011\n",
              "43814   -1122.96      2314154      4814\n",
              "356251 -26647.79     17992634      5541"
            ]
          },
          "metadata": {
            "tags": []
          },
          "execution_count": 118
        }
      ]
    },
    {
      "cell_type": "code",
      "metadata": {
        "colab": {
          "base_uri": "https://localhost:8080/"
        },
        "id": "E7f1jg4XKMg8",
        "outputId": "916780a9-7a17-40fa-bd5c-4912961ed52d"
      },
      "source": [
        "transactions.shape"
      ],
      "execution_count": null,
      "outputs": [
        {
          "output_type": "execute_result",
          "data": {
            "text/plain": [
              "(570814, 4)"
            ]
          },
          "metadata": {
            "tags": []
          },
          "execution_count": 93
        }
      ]
    },
    {
      "cell_type": "code",
      "metadata": {
        "id": "uDSJlp7xK7fP"
      },
      "source": [
        "income = transactions[transactions['amount'] > 0]\r\n",
        "outcome = transactions[transactions['amount'] < 0]"
      ],
      "execution_count": null,
      "outputs": []
    },
    {
      "cell_type": "code",
      "metadata": {
        "colab": {
          "base_uri": "https://localhost:8080/",
          "height": 202
        },
        "id": "Nq-15Yn6LHHT",
        "outputId": "69255054-fde8-4661-b7c4-00bf4483b309"
      },
      "source": [
        "income.head()"
      ],
      "execution_count": null,
      "outputs": [
        {
          "output_type": "execute_result",
          "data": {
            "text/html": [
              "<div>\n",
              "<style scoped>\n",
              "    .dataframe tbody tr th:only-of-type {\n",
              "        vertical-align: middle;\n",
              "    }\n",
              "\n",
              "    .dataframe tbody tr th {\n",
              "        vertical-align: top;\n",
              "    }\n",
              "\n",
              "    .dataframe thead th {\n",
              "        text-align: right;\n",
              "    }\n",
              "</style>\n",
              "<table border=\"1\" class=\"dataframe\">\n",
              "  <thead>\n",
              "    <tr style=\"text-align: right;\">\n",
              "      <th></th>\n",
              "      <th>amount</th>\n",
              "      <th>customer_id</th>\n",
              "      <th>mcc_code</th>\n",
              "    </tr>\n",
              "  </thead>\n",
              "  <tbody>\n",
              "    <tr>\n",
              "      <th>1</th>\n",
              "      <td>56147.89</td>\n",
              "      <td>39026145</td>\n",
              "      <td>6011</td>\n",
              "    </tr>\n",
              "    <tr>\n",
              "      <th>16</th>\n",
              "      <td>224591.58</td>\n",
              "      <td>39026145</td>\n",
              "      <td>6010</td>\n",
              "    </tr>\n",
              "    <tr>\n",
              "      <th>42</th>\n",
              "      <td>22459.16</td>\n",
              "      <td>39026145</td>\n",
              "      <td>6011</td>\n",
              "    </tr>\n",
              "    <tr>\n",
              "      <th>67</th>\n",
              "      <td>22459.16</td>\n",
              "      <td>39026145</td>\n",
              "      <td>6011</td>\n",
              "    </tr>\n",
              "    <tr>\n",
              "      <th>71</th>\n",
              "      <td>96574.38</td>\n",
              "      <td>39026145</td>\n",
              "      <td>6010</td>\n",
              "    </tr>\n",
              "  </tbody>\n",
              "</table>\n",
              "</div>"
            ],
            "text/plain": [
              "       amount  customer_id  mcc_code\n",
              "1    56147.89     39026145      6011\n",
              "16  224591.58     39026145      6010\n",
              "42   22459.16     39026145      6011\n",
              "67   22459.16     39026145      6011\n",
              "71   96574.38     39026145      6010"
            ]
          },
          "metadata": {
            "tags": []
          },
          "execution_count": 120
        }
      ]
    },
    {
      "cell_type": "code",
      "metadata": {
        "id": "qcmtJcW_MVgD"
      },
      "source": [
        "out_fix = outcome[outcome['mcc_code'].isin(fix_code.values)].drop(columns=['mcc_code'])\r\n",
        "out_fix = out_fix.groupby('customer_id').agg(\r\n",
        "    amount_out_fix=pd.NamedAgg(column='amount', aggfunc = sum)\r\n",
        ").reset_index()\r\n",
        "\r\n",
        "out_jevelery = outcome[outcome['mcc_code'].isin(jevelery_code.values)].drop(columns=['mcc_code'])\r\n",
        "out_jevelery = out_jevelery.groupby('customer_id').agg(\r\n",
        "    amount_out_jev=pd.NamedAgg(column='amount', aggfunc = sum)\r\n",
        ").reset_index()\r\n",
        "\r\n",
        "out_hotel = outcome[outcome['mcc_code'].isin(hotel_code.values)].drop(columns=['mcc_code'])\r\n",
        "out_hotel = out_hotel.groupby('customer_id').agg(\r\n",
        "    amount_out_hotel=pd.NamedAgg(column='amount', aggfunc = sum)\r\n",
        ").reset_index()\r\n",
        "out_car = outcome[outcome['mcc_code'].isin(car_code.values)].drop(columns=['mcc_code'])\r\n",
        "out_car = out_car.groupby('customer_id').agg(\r\n",
        "    amount_out_car=pd.NamedAgg(column='amount', aggfunc = sum)\r\n",
        ").reset_index()\r\n",
        "\r\n",
        "out_tax = outcome[outcome['mcc_code'].isin(tax_code.values)].drop(columns=['mcc_code'])\r\n",
        "out_tax = out_tax.groupby('customer_id').agg(\r\n",
        "    amount_out_tax=pd.NamedAgg(column='amount', aggfunc = sum)\r\n",
        ").reset_index()\r\n",
        "out_biauty = outcome[outcome['mcc_code'].isin(biauty_code.values)].drop(columns=['mcc_code'])\r\n",
        "out_biauty = out_biauty.groupby('customer_id').agg(\r\n",
        "    amount_out_b=pd.NamedAgg(column='amount', aggfunc = sum)\r\n",
        ").reset_index()\r\n",
        "out_farm = outcome[outcome['mcc_code'].isin(farm.values)].drop(columns=['mcc_code'])\r\n",
        "out_farm = out_farm.groupby('customer_id').agg(\r\n",
        "    amount_out_farm=pd.NamedAgg(column='amount', aggfunc = sum)\r\n",
        ").reset_index()\r\n"
      ],
      "execution_count": null,
      "outputs": []
    },
    {
      "cell_type": "code",
      "metadata": {
        "id": "3U8KzLILTDyW"
      },
      "source": [
        "in_fix = income[income['mcc_code'].isin(fix_code.values)].drop(columns=['mcc_code'])\r\n",
        "in_fix = in_fix.groupby('customer_id').agg(\r\n",
        "    amount_in_fix=pd.NamedAgg(column='amount', aggfunc = sum)\r\n",
        ").reset_index()\r\n",
        "\r\n",
        "in_jevelery = income[income['mcc_code'].isin(jevelery_code.values)].drop(columns=['mcc_code'])\r\n",
        "in_jevelery = in_jevelery.groupby('customer_id').agg(\r\n",
        "    amount_in_jev=pd.NamedAgg(column='amount', aggfunc = sum)\r\n",
        ").reset_index()\r\n",
        "\r\n",
        "in_hotel = income[income['mcc_code'].isin(hotel_code.values)].drop(columns=['mcc_code'])\r\n",
        "in_hotel = in_hotel.groupby('customer_id').agg(\r\n",
        "    amount_in_hotel=pd.NamedAgg(column='amount', aggfunc = sum)\r\n",
        ").reset_index()\r\n",
        "in_car = income[income['mcc_code'].isin(car_code.values)].drop(columns=['mcc_code'])\r\n",
        "in_car = in_car.groupby('customer_id').agg(\r\n",
        "    amount_in_car=pd.NamedAgg(column='amount', aggfunc = sum)\r\n",
        ").reset_index()\r\n",
        "\r\n",
        "in_tax = income[income['mcc_code'].isin(tax_code.values)].drop(columns=['mcc_code'])\r\n",
        "in_tax = in_tax.groupby('customer_id').agg(\r\n",
        "    amount_in_tax=pd.NamedAgg(column='amount', aggfunc = sum)\r\n",
        ").reset_index()\r\n",
        "in_biauty = income[income['mcc_code'].isin(biauty_code.values)].drop(columns=['mcc_code'])\r\n",
        "in_biauty = in_biauty.groupby('customer_id').agg(\r\n",
        "    amount_in_b=pd.NamedAgg(column='amount', aggfunc = sum)\r\n",
        ").reset_index()\r\n",
        "in_farm = income[income['mcc_code'].isin(farm.values)].drop(columns=['mcc_code'])\r\n",
        "in_farm = in_farm.groupby('customer_id').agg(\r\n",
        "    amount_in_farm=pd.NamedAgg(column='amount', aggfunc = sum)\r\n",
        ").reset_index()\r\n"
      ],
      "execution_count": null,
      "outputs": []
    },
    {
      "cell_type": "code",
      "metadata": {
        "id": "1zkAEdlXYr6W"
      },
      "source": [
        ""
      ],
      "execution_count": null,
      "outputs": []
    },
    {
      "cell_type": "code",
      "metadata": {
        "id": "Ihc0lUYVUClO"
      },
      "source": [
        "result = pd.merge(in_fix, in_jevelery, on=['customer_id'], how='outer')\r\n",
        "result = pd.merge(result,in_hotel , on=['customer_id'], how='outer')\r\n",
        "result = pd.merge(result,in_car , on=['customer_id'], how='outer')\r\n",
        "result = pd.merge(result,in_tax , on=['customer_id'], how='outer')\r\n",
        "result = pd.merge(result,in_biauty , on=['customer_id'], how='outer')\r\n",
        "result = pd.merge(result,in_farm , on=['customer_id'], how='outer')\r\n"
      ],
      "execution_count": null,
      "outputs": []
    },
    {
      "cell_type": "code",
      "metadata": {
        "id": "4qV-50GkXgMG"
      },
      "source": [
        "\r\n",
        "result = pd.merge(result, out_fix , on=['customer_id'], how='outer')\r\n",
        "result = pd.merge(result, out_jevelery , on=['customer_id'], how='outer')\r\n",
        "result = pd.merge(result, out_hotel , on=['customer_id'], how='outer')\r\n",
        "result = pd.merge(result, out_car , on=['customer_id'], how='outer')\r\n",
        "result = pd.merge(result, out_tax , on=['customer_id'], how='outer')\r\n",
        "result = pd.merge(result, out_biauty , on=['customer_id'], how='outer')\r\n",
        "result = pd.merge(result, out_farm , on=['customer_id'], how='outer')\r\n",
        "\r\n"
      ],
      "execution_count": null,
      "outputs": []
    },
    {
      "cell_type": "code",
      "metadata": {
        "id": "Adw2vYHdahVV"
      },
      "source": [
        "result = result.reset_index()"
      ],
      "execution_count": null,
      "outputs": []
    },
    {
      "cell_type": "code",
      "metadata": {
        "colab": {
          "base_uri": "https://localhost:8080/",
          "height": 436
        },
        "id": "sKRP3qOBYdiO",
        "outputId": "25798496-bb72-49ab-e930-ba46a45438a6"
      },
      "source": [
        "result= pd.merge(result, gender_train,on=['customer_id'], how='inner')\r\n",
        "\r\n",
        "result.drop(columns=['customer_id'])"
      ],
      "execution_count": null,
      "outputs": [
        {
          "output_type": "execute_result",
          "data": {
            "text/html": [
              "<div>\n",
              "<style scoped>\n",
              "    .dataframe tbody tr th:only-of-type {\n",
              "        vertical-align: middle;\n",
              "    }\n",
              "\n",
              "    .dataframe tbody tr th {\n",
              "        vertical-align: top;\n",
              "    }\n",
              "\n",
              "    .dataframe thead th {\n",
              "        text-align: right;\n",
              "    }\n",
              "</style>\n",
              "<table border=\"1\" class=\"dataframe\">\n",
              "  <thead>\n",
              "    <tr style=\"text-align: right;\">\n",
              "      <th></th>\n",
              "      <th>amount_in_fix</th>\n",
              "      <th>amount_in_jev</th>\n",
              "      <th>amount_in_hotel</th>\n",
              "      <th>amount_in_car</th>\n",
              "      <th>amount_in_tax</th>\n",
              "      <th>amount_in_b</th>\n",
              "      <th>amount_in_farm</th>\n",
              "      <th>amount_out_fix</th>\n",
              "      <th>amount_out_jev</th>\n",
              "      <th>amount_out_hotel</th>\n",
              "      <th>amount_out_car</th>\n",
              "      <th>amount_out_tax</th>\n",
              "      <th>amount_out_b</th>\n",
              "      <th>amount_out_farm</th>\n",
              "      <th>gender</th>\n",
              "    </tr>\n",
              "  </thead>\n",
              "  <tbody>\n",
              "    <tr>\n",
              "      <th>0</th>\n",
              "      <td>224591.58</td>\n",
              "      <td>NaN</td>\n",
              "      <td>NaN</td>\n",
              "      <td>NaN</td>\n",
              "      <td>NaN</td>\n",
              "      <td>NaN</td>\n",
              "      <td>NaN</td>\n",
              "      <td>-815689.21</td>\n",
              "      <td>-190363.82</td>\n",
              "      <td>NaN</td>\n",
              "      <td>-648050.93</td>\n",
              "      <td>NaN</td>\n",
              "      <td>-160516.72</td>\n",
              "      <td>-311739.87</td>\n",
              "      <td>1</td>\n",
              "    </tr>\n",
              "    <tr>\n",
              "      <th>1</th>\n",
              "      <td>4828.72</td>\n",
              "      <td>NaN</td>\n",
              "      <td>NaN</td>\n",
              "      <td>NaN</td>\n",
              "      <td>NaN</td>\n",
              "      <td>NaN</td>\n",
              "      <td>NaN</td>\n",
              "      <td>-96574.38</td>\n",
              "      <td>NaN</td>\n",
              "      <td>NaN</td>\n",
              "      <td>-198726.94</td>\n",
              "      <td>NaN</td>\n",
              "      <td>-6510.91</td>\n",
              "      <td>-51739.16</td>\n",
              "      <td>1</td>\n",
              "    </tr>\n",
              "    <tr>\n",
              "      <th>2</th>\n",
              "      <td>NaN</td>\n",
              "      <td>43346.17</td>\n",
              "      <td>NaN</td>\n",
              "      <td>NaN</td>\n",
              "      <td>NaN</td>\n",
              "      <td>NaN</td>\n",
              "      <td>NaN</td>\n",
              "      <td>NaN</td>\n",
              "      <td>-1291199.88</td>\n",
              "      <td>NaN</td>\n",
              "      <td>-16816.97</td>\n",
              "      <td>NaN</td>\n",
              "      <td>-645027.03</td>\n",
              "      <td>-637004.15</td>\n",
              "      <td>0</td>\n",
              "    </tr>\n",
              "    <tr>\n",
              "      <th>3</th>\n",
              "      <td>NaN</td>\n",
              "      <td>NaN</td>\n",
              "      <td>281334.19</td>\n",
              "      <td>NaN</td>\n",
              "      <td>NaN</td>\n",
              "      <td>NaN</td>\n",
              "      <td>NaN</td>\n",
              "      <td>-2530450.84</td>\n",
              "      <td>-1535936.88</td>\n",
              "      <td>-10644156.21</td>\n",
              "      <td>-434728.44</td>\n",
              "      <td>NaN</td>\n",
              "      <td>-2874868.10</td>\n",
              "      <td>-1147619.16</td>\n",
              "      <td>0</td>\n",
              "    </tr>\n",
              "    <tr>\n",
              "      <th>4</th>\n",
              "      <td>NaN</td>\n",
              "      <td>NaN</td>\n",
              "      <td>1297690.14</td>\n",
              "      <td>NaN</td>\n",
              "      <td>NaN</td>\n",
              "      <td>NaN</td>\n",
              "      <td>NaN</td>\n",
              "      <td>-5645851.34</td>\n",
              "      <td>-34504955.81</td>\n",
              "      <td>-35367040.28</td>\n",
              "      <td>-293284.48</td>\n",
              "      <td>NaN</td>\n",
              "      <td>-1869364.67</td>\n",
              "      <td>-2382933.25</td>\n",
              "      <td>1</td>\n",
              "    </tr>\n",
              "    <tr>\n",
              "      <th>...</th>\n",
              "      <td>...</td>\n",
              "      <td>...</td>\n",
              "      <td>...</td>\n",
              "      <td>...</td>\n",
              "      <td>...</td>\n",
              "      <td>...</td>\n",
              "      <td>...</td>\n",
              "      <td>...</td>\n",
              "      <td>...</td>\n",
              "      <td>...</td>\n",
              "      <td>...</td>\n",
              "      <td>...</td>\n",
              "      <td>...</td>\n",
              "      <td>...</td>\n",
              "      <td>...</td>\n",
              "    </tr>\n",
              "    <tr>\n",
              "      <th>883</th>\n",
              "      <td>NaN</td>\n",
              "      <td>NaN</td>\n",
              "      <td>NaN</td>\n",
              "      <td>NaN</td>\n",
              "      <td>NaN</td>\n",
              "      <td>NaN</td>\n",
              "      <td>NaN</td>\n",
              "      <td>NaN</td>\n",
              "      <td>NaN</td>\n",
              "      <td>NaN</td>\n",
              "      <td>NaN</td>\n",
              "      <td>NaN</td>\n",
              "      <td>NaN</td>\n",
              "      <td>-149584.50</td>\n",
              "      <td>1</td>\n",
              "    </tr>\n",
              "    <tr>\n",
              "      <th>884</th>\n",
              "      <td>NaN</td>\n",
              "      <td>NaN</td>\n",
              "      <td>NaN</td>\n",
              "      <td>NaN</td>\n",
              "      <td>NaN</td>\n",
              "      <td>NaN</td>\n",
              "      <td>NaN</td>\n",
              "      <td>NaN</td>\n",
              "      <td>NaN</td>\n",
              "      <td>NaN</td>\n",
              "      <td>NaN</td>\n",
              "      <td>NaN</td>\n",
              "      <td>NaN</td>\n",
              "      <td>-1942.72</td>\n",
              "      <td>0</td>\n",
              "    </tr>\n",
              "    <tr>\n",
              "      <th>885</th>\n",
              "      <td>NaN</td>\n",
              "      <td>NaN</td>\n",
              "      <td>NaN</td>\n",
              "      <td>NaN</td>\n",
              "      <td>NaN</td>\n",
              "      <td>NaN</td>\n",
              "      <td>NaN</td>\n",
              "      <td>NaN</td>\n",
              "      <td>NaN</td>\n",
              "      <td>NaN</td>\n",
              "      <td>NaN</td>\n",
              "      <td>NaN</td>\n",
              "      <td>NaN</td>\n",
              "      <td>-38066.03</td>\n",
              "      <td>0</td>\n",
              "    </tr>\n",
              "    <tr>\n",
              "      <th>886</th>\n",
              "      <td>NaN</td>\n",
              "      <td>NaN</td>\n",
              "      <td>NaN</td>\n",
              "      <td>NaN</td>\n",
              "      <td>NaN</td>\n",
              "      <td>NaN</td>\n",
              "      <td>NaN</td>\n",
              "      <td>NaN</td>\n",
              "      <td>NaN</td>\n",
              "      <td>NaN</td>\n",
              "      <td>NaN</td>\n",
              "      <td>NaN</td>\n",
              "      <td>NaN</td>\n",
              "      <td>-77023.68</td>\n",
              "      <td>1</td>\n",
              "    </tr>\n",
              "    <tr>\n",
              "      <th>887</th>\n",
              "      <td>NaN</td>\n",
              "      <td>NaN</td>\n",
              "      <td>NaN</td>\n",
              "      <td>NaN</td>\n",
              "      <td>NaN</td>\n",
              "      <td>NaN</td>\n",
              "      <td>NaN</td>\n",
              "      <td>NaN</td>\n",
              "      <td>NaN</td>\n",
              "      <td>NaN</td>\n",
              "      <td>NaN</td>\n",
              "      <td>NaN</td>\n",
              "      <td>NaN</td>\n",
              "      <td>-169167.10</td>\n",
              "      <td>0</td>\n",
              "    </tr>\n",
              "  </tbody>\n",
              "</table>\n",
              "<p>888 rows × 15 columns</p>\n",
              "</div>"
            ],
            "text/plain": [
              "     amount_in_fix  amount_in_jev  ...  amount_out_farm  gender\n",
              "0        224591.58            NaN  ...       -311739.87       1\n",
              "1          4828.72            NaN  ...        -51739.16       1\n",
              "2              NaN       43346.17  ...       -637004.15       0\n",
              "3              NaN            NaN  ...      -1147619.16       0\n",
              "4              NaN            NaN  ...      -2382933.25       1\n",
              "..             ...            ...  ...              ...     ...\n",
              "883            NaN            NaN  ...       -149584.50       1\n",
              "884            NaN            NaN  ...         -1942.72       0\n",
              "885            NaN            NaN  ...        -38066.03       0\n",
              "886            NaN            NaN  ...        -77023.68       1\n",
              "887            NaN            NaN  ...       -169167.10       0\n",
              "\n",
              "[888 rows x 15 columns]"
            ]
          },
          "metadata": {
            "tags": []
          },
          "execution_count": 319
        }
      ]
    },
    {
      "cell_type": "code",
      "metadata": {
        "id": "fP3xighOcNDL"
      },
      "source": [
        "result = result.fillna(0).drop(columns=['customer_id'])"
      ],
      "execution_count": null,
      "outputs": []
    },
    {
      "cell_type": "code",
      "metadata": {
        "id": "ZIgPrlz3lKQe"
      },
      "source": [
        "X = result.drop(columns=['gender'])\r\n",
        "Y = result['gender']"
      ],
      "execution_count": null,
      "outputs": []
    },
    {
      "cell_type": "code",
      "metadata": {
        "id": "RuWf_31Ch5rj"
      },
      "source": [
        "d = X.max() - X.min()\r\n",
        "d['amount_in_tax'] = 1\r\n",
        "d['amount_out_tax'] = 1"
      ],
      "execution_count": null,
      "outputs": []
    },
    {
      "cell_type": "code",
      "metadata": {
        "id": "WMpuAD74l10r"
      },
      "source": [
        "X = (X - X.mean()) /d"
      ],
      "execution_count": null,
      "outputs": []
    },
    {
      "cell_type": "markdown",
      "metadata": {
        "id": "hiXRvXuACblp"
      },
      "source": [
        "# Задание 2"
      ]
    },
    {
      "cell_type": "markdown",
      "metadata": {
        "id": "RE1BmT7dCetf"
      },
      "source": [
        "Модель - многослойная нейронная сеть с двумя скрытыми слоями и с dropout. Количество нейронов в каждом слое выбираете самостоятельно.\r\n",
        "Функции активации, метод оптимизации, скорость обучения, вероятность dropout - выбираете самостоятельно\r\n",
        "\r\n",
        "Модель нужно строить с помощью keras или torch\r\n",
        "\r\n",
        "Нужно отдельно перечислить все гиперпараметры и их значения вот в таком формате (значения приведены для примера, у вас могут быть другие):\r\n",
        "\r\n",
        "* количество эпох: 5\r\n",
        "* скорость обучения: 0.0001\r\n",
        "* функция активация: ReLU\r\n",
        "* и т.д.\r\n",
        "\r\n",
        "Настроить параметры модели."
      ]
    },
    {
      "cell_type": "code",
      "metadata": {
        "id": "aHIL84cje-QN"
      },
      "source": [
        "from keras.models import Sequential\r\n",
        "from keras.layers import Dense, Dropout, Flatten, Lambda\r\n",
        "import keras"
      ],
      "execution_count": null,
      "outputs": []
    },
    {
      "cell_type": "code",
      "metadata": {
        "id": "R0K9VCJ2ZrDT"
      },
      "source": [
        "import keras\r\n",
        "\r\n",
        "from keras.optimizers import Adam\r\n",
        "from keras.models import Sequential\r\n",
        "from sklearn.model_selection import train_test_split"
      ],
      "execution_count": null,
      "outputs": []
    },
    {
      "cell_type": "code",
      "metadata": {
        "id": "iJhgbyTmd2VD"
      },
      "source": [
        "X_train, X_test, y_train, y_test = train_test_split(X, Y, test_size=0.3)\r\n",
        "y_train=keras.utils.to_categorical(y_train,2)\r\n",
        "y_test2 = y_test \r\n",
        "y_test=keras.utils.to_categorical(y_test,2)"
      ],
      "execution_count": null,
      "outputs": []
    },
    {
      "cell_type": "code",
      "metadata": {
        "id": "tr5lnlkwdNK7"
      },
      "source": [
        "model1 = Sequential([\r\n",
        "                     Dense(256, activation='relu'),\r\n",
        "                     Dropout(0.5),\r\n",
        "                     Dense(units = 128, activation = 'relu'),\r\n",
        "                     Dense(units = 64, activation='relu'),\r\n",
        "                     Dropout(0.2),\r\n",
        "                     Dense(units = 2, activation='softmax')])\r\n",
        "\r\n",
        "model1.compile(loss='categorical_crossentropy',\r\n",
        "              optimizer=Adam(lr=0.001),\r\n",
        "              metrics=['accuracy'])"
      ],
      "execution_count": null,
      "outputs": []
    },
    {
      "cell_type": "code",
      "metadata": {
        "colab": {
          "base_uri": "https://localhost:8080/"
        },
        "id": "P5_kQnkuecCT",
        "outputId": "5eb32c73-c303-4b2e-94f6-f98b19c9ebdd"
      },
      "source": [
        "history1 = model1.fit(X_train, y_train,\r\n",
        "                      epochs=50,\r\n",
        "                      batch_size = 20,\r\n",
        "                      validation_data=(X_test,y_test))"
      ],
      "execution_count": null,
      "outputs": [
        {
          "output_type": "stream",
          "text": [
            "Epoch 1/50\n",
            "32/32 [==============================] - 1s 11ms/step - loss: 0.6836 - accuracy: 0.5960 - val_loss: 0.6447 - val_accuracy: 0.6667\n",
            "Epoch 2/50\n",
            "32/32 [==============================] - 0s 4ms/step - loss: 0.6209 - accuracy: 0.6885 - val_loss: 0.6034 - val_accuracy: 0.6779\n",
            "Epoch 3/50\n",
            "32/32 [==============================] - 0s 4ms/step - loss: 0.5873 - accuracy: 0.6697 - val_loss: 0.6025 - val_accuracy: 0.6779\n",
            "Epoch 4/50\n",
            "32/32 [==============================] - 0s 11ms/step - loss: 0.5623 - accuracy: 0.6980 - val_loss: 0.5983 - val_accuracy: 0.6816\n",
            "Epoch 5/50\n",
            "32/32 [==============================] - 0s 4ms/step - loss: 0.5599 - accuracy: 0.7091 - val_loss: 0.5839 - val_accuracy: 0.7041\n",
            "Epoch 6/50\n",
            "32/32 [==============================] - 0s 5ms/step - loss: 0.5504 - accuracy: 0.7221 - val_loss: 0.6090 - val_accuracy: 0.7378\n",
            "Epoch 7/50\n",
            "32/32 [==============================] - 0s 4ms/step - loss: 0.5656 - accuracy: 0.6666 - val_loss: 0.6111 - val_accuracy: 0.7191\n",
            "Epoch 8/50\n",
            "32/32 [==============================] - 0s 4ms/step - loss: 0.5395 - accuracy: 0.7246 - val_loss: 0.6193 - val_accuracy: 0.7191\n",
            "Epoch 9/50\n",
            "32/32 [==============================] - 0s 4ms/step - loss: 0.5655 - accuracy: 0.7001 - val_loss: 0.6043 - val_accuracy: 0.7191\n",
            "Epoch 10/50\n",
            "32/32 [==============================] - 0s 4ms/step - loss: 0.5540 - accuracy: 0.7196 - val_loss: 0.5965 - val_accuracy: 0.7004\n",
            "Epoch 11/50\n",
            "32/32 [==============================] - 0s 4ms/step - loss: 0.5145 - accuracy: 0.7485 - val_loss: 0.6046 - val_accuracy: 0.7378\n",
            "Epoch 12/50\n",
            "32/32 [==============================] - 0s 4ms/step - loss: 0.5539 - accuracy: 0.7483 - val_loss: 0.5982 - val_accuracy: 0.7378\n",
            "Epoch 13/50\n",
            "32/32 [==============================] - 0s 4ms/step - loss: 0.5336 - accuracy: 0.7380 - val_loss: 0.5879 - val_accuracy: 0.7266\n",
            "Epoch 14/50\n",
            "32/32 [==============================] - 0s 4ms/step - loss: 0.5454 - accuracy: 0.7412 - val_loss: 0.5891 - val_accuracy: 0.7191\n",
            "Epoch 15/50\n",
            "32/32 [==============================] - 0s 3ms/step - loss: 0.5615 - accuracy: 0.7266 - val_loss: 0.6048 - val_accuracy: 0.7228\n",
            "Epoch 16/50\n",
            "32/32 [==============================] - 0s 4ms/step - loss: 0.5422 - accuracy: 0.7171 - val_loss: 0.6201 - val_accuracy: 0.6704\n",
            "Epoch 17/50\n",
            "32/32 [==============================] - 0s 3ms/step - loss: 0.5393 - accuracy: 0.6993 - val_loss: 0.5925 - val_accuracy: 0.7004\n",
            "Epoch 18/50\n",
            "32/32 [==============================] - 0s 4ms/step - loss: 0.5420 - accuracy: 0.7093 - val_loss: 0.5913 - val_accuracy: 0.7079\n",
            "Epoch 19/50\n",
            "32/32 [==============================] - 0s 4ms/step - loss: 0.5385 - accuracy: 0.7411 - val_loss: 0.5949 - val_accuracy: 0.7303\n",
            "Epoch 20/50\n",
            "32/32 [==============================] - 0s 4ms/step - loss: 0.5234 - accuracy: 0.7224 - val_loss: 0.5790 - val_accuracy: 0.7341\n",
            "Epoch 21/50\n",
            "32/32 [==============================] - 0s 4ms/step - loss: 0.5273 - accuracy: 0.7473 - val_loss: 0.5940 - val_accuracy: 0.7191\n",
            "Epoch 22/50\n",
            "32/32 [==============================] - 0s 4ms/step - loss: 0.5449 - accuracy: 0.7075 - val_loss: 0.5994 - val_accuracy: 0.6966\n",
            "Epoch 23/50\n",
            "32/32 [==============================] - 0s 4ms/step - loss: 0.5260 - accuracy: 0.7329 - val_loss: 0.5865 - val_accuracy: 0.6966\n",
            "Epoch 24/50\n",
            "32/32 [==============================] - 0s 3ms/step - loss: 0.5416 - accuracy: 0.7086 - val_loss: 0.5857 - val_accuracy: 0.7079\n",
            "Epoch 25/50\n",
            "32/32 [==============================] - 0s 3ms/step - loss: 0.5391 - accuracy: 0.7146 - val_loss: 0.5891 - val_accuracy: 0.7228\n",
            "Epoch 26/50\n",
            "32/32 [==============================] - 0s 3ms/step - loss: 0.5098 - accuracy: 0.7536 - val_loss: 0.6054 - val_accuracy: 0.7191\n",
            "Epoch 27/50\n",
            "32/32 [==============================] - 0s 4ms/step - loss: 0.5297 - accuracy: 0.7438 - val_loss: 0.5966 - val_accuracy: 0.7079\n",
            "Epoch 28/50\n",
            "32/32 [==============================] - 0s 3ms/step - loss: 0.5757 - accuracy: 0.7103 - val_loss: 0.5864 - val_accuracy: 0.7154\n",
            "Epoch 29/50\n",
            "32/32 [==============================] - 0s 3ms/step - loss: 0.5068 - accuracy: 0.7629 - val_loss: 0.5891 - val_accuracy: 0.7191\n",
            "Epoch 30/50\n",
            "32/32 [==============================] - 0s 4ms/step - loss: 0.5235 - accuracy: 0.7693 - val_loss: 0.5987 - val_accuracy: 0.7041\n",
            "Epoch 31/50\n",
            "32/32 [==============================] - 0s 4ms/step - loss: 0.5522 - accuracy: 0.7236 - val_loss: 0.5935 - val_accuracy: 0.7116\n",
            "Epoch 32/50\n",
            "32/32 [==============================] - 0s 4ms/step - loss: 0.4955 - accuracy: 0.7800 - val_loss: 0.5948 - val_accuracy: 0.7191\n",
            "Epoch 33/50\n",
            "32/32 [==============================] - 0s 4ms/step - loss: 0.4925 - accuracy: 0.7564 - val_loss: 0.5868 - val_accuracy: 0.7191\n",
            "Epoch 34/50\n",
            "32/32 [==============================] - 0s 4ms/step - loss: 0.5066 - accuracy: 0.7564 - val_loss: 0.6012 - val_accuracy: 0.7191\n",
            "Epoch 35/50\n",
            "32/32 [==============================] - 0s 4ms/step - loss: 0.4868 - accuracy: 0.7567 - val_loss: 0.5860 - val_accuracy: 0.7303\n",
            "Epoch 36/50\n",
            "32/32 [==============================] - 0s 3ms/step - loss: 0.5341 - accuracy: 0.7341 - val_loss: 0.5861 - val_accuracy: 0.7266\n",
            "Epoch 37/50\n",
            "32/32 [==============================] - 0s 4ms/step - loss: 0.5402 - accuracy: 0.7233 - val_loss: 0.6029 - val_accuracy: 0.7341\n",
            "Epoch 38/50\n",
            "32/32 [==============================] - 0s 4ms/step - loss: 0.4947 - accuracy: 0.7519 - val_loss: 0.6014 - val_accuracy: 0.7378\n",
            "Epoch 39/50\n",
            "32/32 [==============================] - 0s 4ms/step - loss: 0.4828 - accuracy: 0.7810 - val_loss: 0.5945 - val_accuracy: 0.7228\n",
            "Epoch 40/50\n",
            "32/32 [==============================] - 0s 4ms/step - loss: 0.4908 - accuracy: 0.7689 - val_loss: 0.6048 - val_accuracy: 0.7154\n",
            "Epoch 41/50\n",
            "32/32 [==============================] - 0s 4ms/step - loss: 0.5447 - accuracy: 0.7122 - val_loss: 0.5932 - val_accuracy: 0.7191\n",
            "Epoch 42/50\n",
            "32/32 [==============================] - 0s 4ms/step - loss: 0.5010 - accuracy: 0.7644 - val_loss: 0.5952 - val_accuracy: 0.7079\n",
            "Epoch 43/50\n",
            "32/32 [==============================] - 0s 4ms/step - loss: 0.5141 - accuracy: 0.7463 - val_loss: 0.6011 - val_accuracy: 0.7266\n",
            "Epoch 44/50\n",
            "32/32 [==============================] - 0s 4ms/step - loss: 0.4934 - accuracy: 0.7865 - val_loss: 0.5942 - val_accuracy: 0.7116\n",
            "Epoch 45/50\n",
            "32/32 [==============================] - 0s 3ms/step - loss: 0.5003 - accuracy: 0.7538 - val_loss: 0.5901 - val_accuracy: 0.7266\n",
            "Epoch 46/50\n",
            "32/32 [==============================] - 0s 4ms/step - loss: 0.4737 - accuracy: 0.7899 - val_loss: 0.6105 - val_accuracy: 0.7303\n",
            "Epoch 47/50\n",
            "32/32 [==============================] - 0s 4ms/step - loss: 0.5357 - accuracy: 0.7235 - val_loss: 0.5957 - val_accuracy: 0.7116\n",
            "Epoch 48/50\n",
            "32/32 [==============================] - 0s 4ms/step - loss: 0.4969 - accuracy: 0.7565 - val_loss: 0.5972 - val_accuracy: 0.7041\n",
            "Epoch 49/50\n",
            "32/32 [==============================] - 0s 4ms/step - loss: 0.5115 - accuracy: 0.7292 - val_loss: 0.5999 - val_accuracy: 0.7004\n",
            "Epoch 50/50\n",
            "32/32 [==============================] - 0s 4ms/step - loss: 0.4940 - accuracy: 0.7553 - val_loss: 0.5951 - val_accuracy: 0.7266\n"
          ],
          "name": "stdout"
        }
      ]
    },
    {
      "cell_type": "markdown",
      "metadata": {
        "id": "vjOJsBFsDOll"
      },
      "source": [
        "# Задание 3"
      ]
    },
    {
      "cell_type": "markdown",
      "metadata": {
        "id": "FXHBaQF1CnuI"
      },
      "source": [
        "\r\n",
        "Проверить качество модели не менее чем на трёх разных метриках. Вывести эти значения."
      ]
    },
    {
      "cell_type": "markdown",
      "metadata": {
        "id": "jnuaWWNID2O8"
      },
      "source": [
        "После завершения контрольной работы, дайте ссылку на colab в отдельном followup в своей теме на Piazza. Дайте разрешение на его просмотр.\r\n",
        "\r\n",
        "Не забудьте запустить код в последней ячейке для контроля времени выполнения."
      ]
    },
    {
      "cell_type": "code",
      "metadata": {
        "id": "1zkhq9uYiQiF"
      },
      "source": [
        "from sklearn.metrics import classification_report"
      ],
      "execution_count": null,
      "outputs": []
    },
    {
      "cell_type": "code",
      "metadata": {
        "id": "jIYNLKcdkQ4R"
      },
      "source": [
        "predict = np.argmax(model1.predict(X_test), axis=-1)\r\n"
      ],
      "execution_count": null,
      "outputs": []
    },
    {
      "cell_type": "code",
      "metadata": {
        "colab": {
          "base_uri": "https://localhost:8080/"
        },
        "id": "lmt6EMZujOoL",
        "outputId": "e9bf30db-c07e-496b-fe1a-070a83b2f084"
      },
      "source": [
        "print(classification_report(y_test2,predict ))"
      ],
      "execution_count": null,
      "outputs": [
        {
          "output_type": "stream",
          "text": [
            "              precision    recall  f1-score   support\n",
            "\n",
            "           0       0.73      0.83      0.77       151\n",
            "           1       0.73      0.59      0.65       116\n",
            "\n",
            "    accuracy                           0.73       267\n",
            "   macro avg       0.73      0.71      0.71       267\n",
            "weighted avg       0.73      0.73      0.72       267\n",
            "\n"
          ],
          "name": "stdout"
        }
      ]
    }
  ]
}