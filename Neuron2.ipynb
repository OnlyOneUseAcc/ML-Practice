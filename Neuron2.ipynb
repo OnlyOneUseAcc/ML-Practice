{
  "nbformat": 4,
  "nbformat_minor": 0,
  "metadata": {
    "colab": {
      "name": "Neuron2.ipynb\"",
      "provenance": [],
      "collapsed_sections": []
    },
    "kernelspec": {
      "display_name": "Python 3",
      "language": "python",
      "name": "python3"
    }
  },
  "cells": [
    {
      "cell_type": "markdown",
      "metadata": {
        "id": "lkoop-MT9if-"
      },
      "source": [
        "# Нейрон с различными функциями активации"
      ]
    },
    {
      "cell_type": "markdown",
      "metadata": {
        "id": "IUjxg_IS31tn"
      },
      "source": [
        "В этом задании нужно будет: \n",
        "- самостоятельно реализовать класс **`Neuron()`** с различными функциями активации (ReLU, LeakyReLU и ELU)\n",
        "\n",
        "- обучить и протестировать этот класс на сгенерированных и реальных данных\n",
        "\n",
        "**Достаточно реализовать ReLU и ещё одну из двух.**"
      ]
    },
    {
      "cell_type": "code",
      "metadata": {
        "id": "p-OYlV519igB"
      },
      "source": [
        "from matplotlib import pyplot as plt\n",
        "from matplotlib.colors import ListedColormap\n",
        "import numpy as np\n",
        "import pandas as pd\n",
        "from pydrive.auth import GoogleAuth\n",
        "from pydrive.drive import GoogleDrive\n",
        "from google.colab import auth\n",
        "from oauth2client.client import GoogleCredentials\n",
        "from sklearn.model_selection import train_test_split"
      ],
      "execution_count": null,
      "outputs": []
    },
    {
      "cell_type": "code",
      "metadata": {
        "id": "t1VCt_rDHum3"
      },
      "source": [
        "RANDOM_SEED = 42\n",
        "np.random.seed(RANDOM_SEED)"
      ],
      "execution_count": null,
      "outputs": []
    },
    {
      "cell_type": "markdown",
      "metadata": {
        "id": "cgpFOaPm9igG"
      },
      "source": [
        "В данном случае мы снова решаем задачу бинарной классификации (2 класса: 1 или 0). Мы уже выяснили (в ноутбуке про `logloss`), что плохо брать для классификации квадратичную функцию потерь, однако здесь для простоты возьмём её:\n",
        "\n",
        "$$\n",
        "Loss(\\hat{y}, y) = \\frac{1}{n}\\sum_{i=1}^{n} (\\hat{y_i} - y_i)^2\n",
        "$$  \n",
        "\n",
        "Здесь $w \\cdot X_i$ - скалярное произведение, а $\\hat{y_i} = \\sigma(w \\cdot X_i) =\\frac{1}{1+e^{-w \\cdot X_i}} $ - сигмоида ($i$ -- номер объекта в выборке). "
      ]
    },
    {
      "cell_type": "code",
      "metadata": {
        "id": "yn3F0layHunD"
      },
      "source": [
        "def Loss(y_pred, y):\n",
        "    y_pred = y_pred.reshape(-1, 1)\n",
        "    y = np.array(y).reshape(-1, 1)\n",
        "    return 0.5 * np.mean((y_pred - y) ** 2)"
      ],
      "execution_count": null,
      "outputs": []
    },
    {
      "cell_type": "markdown",
      "metadata": {
        "id": "rYoQAdXoHunK"
      },
      "source": [
        "Далее будут предложены несколько функций активации, и Вам нужно реализовать класс `Neuron` по аналогии с тем, как это было на семинаре. Сам принцип тот же, но меняются формула обновления весов и формула предсказания."
      ]
    },
    {
      "cell_type": "markdown",
      "metadata": {
        "id": "WHvdwJW9HunN"
      },
      "source": [
        "<h2 style=\"text-align: center;\"><b>Нейрон с ReLU (Recitified Linear Unit)</b></h2>  "
      ]
    },
    {
      "cell_type": "markdown",
      "metadata": {
        "id": "AMA7Gi6KHunQ"
      },
      "source": [
        "ReLU самая часто используемая (по крайней мере, пару лет назад) функция активации в нейронных сетях. Выглядит она очень просто:\n",
        "\n",
        "\\begin{equation*}\n",
        "ReLU(x) =\n",
        " \\begin{cases}\n",
        "   0, &\\text{$x \\le 0$}\\\\\n",
        "   x, &\\text{$x \\gt 0$}\n",
        " \\end{cases}\n",
        "\\end{equation*}\n",
        "\n",
        "Или по-другому:\n",
        "\n",
        "$$\n",
        "ReLU(x) = \\max(0, x)\n",
        "$$\n",
        "\n",
        "В (свободном) переводе Rectified Linear Unit = \"Усечённая линейная функция\". Собственно, мы по сути просто не даём проходить отрицательным числам.\n",
        "\n",
        "Производная здесь берётся как производная от кусочно-заданной функции, то есть на участках, где функция гладкая, и в нуле её доопредляют нулём:\n",
        "\n",
        "\\begin{equation*}\n",
        "ReLU'(x) = \n",
        " \\begin{cases}\n",
        "   0, &\\text{$x \\le 0$}\\\\\n",
        "   1, &\\text{$x \\gt 0$}\n",
        " \\end{cases}\n",
        "\\end{equation*}\n",
        "\n",
        "Подставим ReLu в Loss:\n",
        "\n",
        "$$Loss(\\hat{y}, y) = \\frac{1}{2n}\\sum_{i=1}^{n} (\\hat{y_i} - y_i)^2 = \\frac{1}{2n}\\sum_{i=1}^{n} (ReLU(w \\cdot X_i) - y_i)^2 = \\begin{equation*}\n",
        "\\frac{1}{2n}\\sum_{i=1}^{n}\n",
        " \\begin{cases}\n",
        "    y_i^2, &{w \\cdot X_i \\le 0}\\\\\n",
        "   (w \\cdot X_i - y_i)^2, &{w \\cdot X_i \\gt 0}\n",
        " \\end{cases}\n",
        "\\end{equation*}$$  \n",
        "\n",
        "(помните, что $w \\cdot X_i$ -- это число в данном случае (результат скалярного произведения двух векторов)).\n",
        "\n",
        "Тогда формула для обновления весов при градиентном спуске будет такая (в матричном виде, рекмоендуем вывести самим то, как это получается из формулы для одного объекта):\n",
        "\n",
        "$$ \\frac{\\partial Loss}{\\partial w} = \\begin{equation*}\n",
        "\\frac{1}{n}\\sum_{i=1}^{n}\n",
        " \\begin{cases}\n",
        "   0, &{w \\cdot X_i \\le 0}\\\\\n",
        "   \\frac{1}{n} X_i^T (w \\cdot X_i - y), &{w \\cdot X_i \\gt 0}\n",
        " \\end{cases}\n",
        "\\end{equation*}$$\n",
        "\n",
        "(напоминаем, что здесь $w \\cdot X$ -- матричное произведение вектора $w$ (ведь вектор -- тоже матрица, не так ли?) и матрицы $X$ )\n",
        "\n",
        "Почему в первом случае будет 0? Потому что в формулу $y_i^2$ не входят веса , а мы берём производную именно по весам $w$.\n",
        "\n",
        "* Реализуйте ReLU и её производную:"
      ]
    },
    {
      "cell_type": "code",
      "metadata": {
        "id": "DCgAeho19igI"
      },
      "source": [
        "def relu(x):\n",
        "    \"\"\"ReLU-функция\"\"\"\n",
        "    return x if x > 0 else 0"
      ],
      "execution_count": null,
      "outputs": []
    },
    {
      "cell_type": "code",
      "metadata": {
        "id": "nXwsy-7J9igL"
      },
      "source": [
        "def relu_derivative(x):\n",
        "    \"\"\"Производная ReLU\"\"\"\n",
        "    return 1 if x > 0 else 0"
      ],
      "execution_count": null,
      "outputs": []
    },
    {
      "cell_type": "markdown",
      "metadata": {
        "id": "qKurn-7F9igN"
      },
      "source": [
        "Теперь нужно написать нейрон с ReLU. Здесь всё очень похоже на перцептрон, но будут по-другому обновляться веса и другая функция активации:"
      ]
    },
    {
      "cell_type": "code",
      "metadata": {
        "id": "AM9vn3OX9igO"
      },
      "source": [
        "class NeuronReLU:\n",
        "    def __init__(self, w=None, b=0):\n",
        "        \"\"\"\n",
        "        :param: w -- вектор весов\n",
        "        :param: b -- смещение\n",
        "        \"\"\"\n",
        "        self.w = w\n",
        "        self.b = b\n",
        "        \n",
        "        \n",
        "    def activate(self, x):\n",
        "        return relu(x)\n",
        "\n",
        "    def forward_pass(self, X):\n",
        "        \"\"\"\n",
        "        Рассчитывает ответ нейрона при предъявлении набора объектов\n",
        "        :param: X -- матрица примеров размера (n, m), каждая строка - отдельный объект\n",
        "        :return: вектор размера (n, 1) из нулей и единиц с ответами нейрона \n",
        "        \"\"\"\n",
        "        n = X.shape[0]\n",
        "        X = X.to_numpy()\n",
        "        y_pred = np.zeros((n, 1))  # y_pred == y_predicted - предсказанные классы\n",
        "        for i in range(X.shape[0]):\n",
        "          y_pred[i] = self.activate(X[i] @ self.w + self.b)\n",
        "        return y_pred\n",
        "    \n",
        "    def backward_pass(self, X, y, y_pred, learning_rate=0.005):\n",
        "        \"\"\"\n",
        "        Обновляет значения весов нейрона в соответствии с этим объектом\n",
        "        :param: X -- матрица входов размера (n, m)\n",
        "                y -- вектор правильных ответов размера (n, 1)\n",
        "                learning_rate - \"скорость обучения\" (символ alpha в формулах выше)\n",
        "        В этом методе ничего возвращать не нужно, только правильно поменять веса\n",
        "        с помощью градиентного спуска.\n",
        "        \"\"\"\n",
        "        n = len(y)\n",
        "        y = np.array(y).reshape(-1, 1)\n",
        "        X = X.to_numpy()\n",
        "        delta_w = 0\n",
        "        delta_b = 0\n",
        "        \n",
        "        for i in range(n):\n",
        "          if y_pred[i] > 0:\n",
        "            delta_w += X[i] * (y_pred[i] - y[i])\n",
        "            delta_b += y_pred[i] - y[i]\n",
        "        \n",
        "        delta_w /= n\n",
        "        delta_b /= n\n",
        "        if type(delta_w) != type(1.0 / 1):\n",
        "          delta_w = delta_w.reshape(-1, 1)\n",
        "        \n",
        "        self.w = self.w - learning_rate * delta_w\n",
        "        self.b = self.b - learning_rate * delta_b\n",
        "    \n",
        "    def fit(self, X, y, num_epochs=300):\n",
        "        \"\"\"\n",
        "        Спускаемся в минимум\n",
        "        :param: X -- матрица объектов размера (n, m)\n",
        "                y -- вектор правильных ответов размера (n, 1)\n",
        "                num_epochs -- количество итераций обучения\n",
        "        :return: losses -- вектор значений функции потерь\n",
        "        \"\"\"\n",
        "        if type(self.w) != np.ndarray:\n",
        "          self.w = np.zeros((X.shape[1], 1))  # столбец (m, 1)\n",
        "        \n",
        "        Loss_values = []  # значения функции потерь на различных итерациях обновления весов\n",
        "        \n",
        "        for i in range(num_epochs):\n",
        "          y_pred = self.forward_pass(X)\n",
        "          Loss_values.append(Loss(y_pred,y))\n",
        "          self.backward_pass(X, y, y_pred)\n",
        "        \n",
        "        return Loss_values"
      ],
      "execution_count": null,
      "outputs": []
    },
    {
      "cell_type": "markdown",
      "metadata": {
        "id": "thtFp-at9igS"
      },
      "source": [
        "<h3 style=\"text-align: center;\"><b>Тестирование нейрона с ReLU</b></h3>  "
      ]
    },
    {
      "cell_type": "markdown",
      "metadata": {
        "id": "hOuYzf_u9igS"
      },
      "source": [
        "Здесь вам нужно самим протестировать новый нейрон **на тех же данных** (\"Яблоки и Груши\" и \"Голос\") по аналогии с тем, как это было проделано с перцептроном.\n",
        "В итоге нужно вывести: \n",
        "* график, на котором будет показано, как изменяется функция потерь $Loss$ в зависимости от числа итераций обучения\n",
        "* график с раскраской выборки нейроном"
      ]
    },
    {
      "cell_type": "markdown",
      "metadata": {
        "id": "chEeb88gHuny"
      },
      "source": [
        "***ПРИМЕЧАНИЕ***: пожалуйста, почаще проверяйте `.shape` у матриц и векторов: `self.w`, `X` и `y` внутри класса. Очень часто ошибка решается транспонированием или `.reshape()`'ом. Не забывайте проверять, что на что Вы умножаете и какой вектор (какой размер) хотите получить на выходе -- это очень помогает не запутаться."
      ]
    },
    {
      "cell_type": "code",
      "metadata": {
        "id": "EZZ6tigbwvh6"
      },
      "source": [
        "auth.authenticate_user()\n",
        "gauth = GoogleAuth()\n",
        "gauth.credentials = GoogleCredentials.get_application_default()\n",
        "drive = GoogleDrive(gauth)"
      ],
      "execution_count": null,
      "outputs": []
    },
    {
      "cell_type": "code",
      "metadata": {
        "id": "ygnTOihqxBR_"
      },
      "source": [
        "# https://drive.google.com/file/d/1crKAW6EhJ2hZYC1Rj53BT3Zfe7EbHip5/view?usp=sharing\n",
        "downloaded = drive.CreateFile({'id':\"1crKAW6EhJ2hZYC1Rj53BT3Zfe7EbHip5\"}) \n",
        "downloaded.GetContentFile('apples_pears.csv')"
      ],
      "execution_count": null,
      "outputs": []
    },
    {
      "cell_type": "code",
      "metadata": {
        "id": "O3HVJM79xD9v"
      },
      "source": [
        "data_apple = pd.read_csv('apples_pears.csv')\n",
        "x = data_apple.drop(columns = ['target'])\n",
        "y = data_apple['target']\n",
        "y = y.to_numpy()\n",
        "x_train, x_test, y_train, y_test = train_test_split(x, y, test_size = 0.3)"
      ],
      "execution_count": null,
      "outputs": []
    },
    {
      "cell_type": "code",
      "metadata": {
        "id": "FZDtNG6CHuop",
        "colab": {
          "base_uri": "https://localhost:8080/"
        },
        "outputId": "5e10e8b1-1d57-48fa-a071-c4cb7db3f784"
      },
      "source": [
        "%%time\n",
        "\n",
        "neuron = NeuronReLU()\n",
        "Loss_values = neuron.fit(x_train, y_train)\n",
        "\n"
      ],
      "execution_count": null,
      "outputs": [
        {
          "output_type": "stream",
          "text": [
            "CPU times: user 1.28 s, sys: 0 ns, total: 1.28 s\n",
            "Wall time: 1.28 s\n"
          ],
          "name": "stdout"
        }
      ]
    },
    {
      "cell_type": "code",
      "metadata": {
        "colab": {
          "base_uri": "https://localhost:8080/",
          "height": 519
        },
        "id": "5M8WCxr_EcCO",
        "outputId": "7b18b7d4-dd24-4395-b6a9-df17424a80e0"
      },
      "source": [
        "plt.figure(figsize=(10, 8))\r\n",
        "plt.plot(Loss_values)\r\n",
        "plt.title('Функция потерь', fontsize=15)\r\n",
        "plt.xlabel('номер итерации', fontsize=14)\r\n",
        "plt.ylabel('$Loss(\\hat{y}, y)$', fontsize=14)\r\n",
        "plt.show()"
      ],
      "execution_count": null,
      "outputs": [
        {
          "output_type": "display_data",
          "data": {
            "image/png": "[encoded data removed]",
            "text/plain": [
              "<Figure size 720x576 with 1 Axes>"
            ]
          },
          "metadata": {
            "tags": [],
            "needs_background": "light"
          }
        }
      ]
    },
    {
      "cell_type": "markdown",
      "metadata": {
        "id": "sPxo2YVeHuou"
      },
      "source": [
        "Скорее всего сейчас у вас лосс -- это прямая линия, и вы видите, что веса не обновляются. Но почему?"
      ]
    },
    {
      "cell_type": "markdown",
      "metadata": {
        "id": "mXUmEeUBHuov"
      },
      "source": [
        "Всё просто -- если присмотреться, то видно, что self.w и self.b иницилизируются нулями в начале `.fit()`-метода. Если расписать, как будет идти обновление, то видно, что из-за ReLU веса просто-напросто не будут обновляться, если начать с инициализации нулями. \n",
        "\n",
        "Это -- одна из причин, по которой в нейронных сетях веса инициализируют случаными числами (обычно из отрезка [0, 1)).\n",
        "\n",
        "Обучите нейрон, инициализировав случайно веса (поставьте 10000 итераций). \n",
        "\n",
        "Закомментируйте инициализацию нулями в функции `.fit()` класса `NeuronReLU` "
      ]
    },
    {
      "cell_type": "code",
      "metadata": {
        "id": "E821cUM0Huo8",
        "colab": {
          "base_uri": "https://localhost:8080/",
          "height": 555
        },
        "outputId": "49897ff2-7e2c-45a8-cae2-b56e58afd59d"
      },
      "source": [
        "%%time\n",
        "\n",
        "neuron = NeuronReLU(w=np.random.rand(x_train.shape[1], 1), b=np.random.rand(1))\n",
        "Loss_values = neuron.fit(x_train, y_train, num_epochs=10000)\n",
        "\n",
        "plt.figure(figsize=(10, 8))\n",
        "plt.plot(Loss_values)\n",
        "plt.title('Функция потерь', fontsize=15)\n",
        "plt.xlabel('номер итерации', fontsize=14)\n",
        "plt.ylabel('$Loss(\\hat{y}, y)$', fontsize=14)\n",
        "plt.show()"
      ],
      "execution_count": null,
      "outputs": [
        {
          "output_type": "display_data",
          "data": {
            "image/png": "[encoded data removed]",
            "text/plain": [
              "<Figure size 720x576 with 1 Axes>"
            ]
          },
          "metadata": {
            "tags": [],
            "needs_background": "light"
          }
        },
        {
          "output_type": "stream",
          "text": [
            "CPU times: user 1min 16s, sys: 0 ns, total: 1min 16s\n",
            "Wall time: 1min 16s\n"
          ],
          "name": "stdout"
        }
      ]
    },
    {
      "cell_type": "markdown",
      "metadata": {
        "id": "jkWMrc9uHupS"
      },
      "source": [
        "Посмотрим, как предсказывает этот нейрон:"
      ]
    },
    {
      "cell_type": "code",
      "metadata": {
        "id": "hyjfcthcHupT",
        "scrolled": false,
        "colab": {
          "base_uri": "https://localhost:8080/",
          "height": 520
        },
        "outputId": "71b1fff8-6910-4628-923a-ba2ec0bc3fcd"
      },
      "source": [
        "plt.figure(figsize=(10, 8))\n",
        "plt.scatter(x_test.iloc[:, 0], x_test.iloc[:, 1],\n",
        "            c=np.array(neuron.forward_pass(x_test) > 0.5).ravel(),\n",
        "            cmap='spring')\n",
        "plt.title('Яблоки и груши', fontsize=15)\n",
        "plt.xlabel('симметричность', fontsize=14)\n",
        "plt.ylabel('желтизна', fontsize=14)\n",
        "plt.show();"
      ],
      "execution_count": null,
      "outputs": [
        {
          "output_type": "display_data",
          "data": {
            "image/png": "[encoded data removed]",
            "text/plain": [
              "<Figure size 720x576 with 1 Axes>"
            ]
          },
          "metadata": {
            "tags": [],
            "needs_background": "light"
          }
        }
      ]
    },
    {
      "cell_type": "markdown",
      "metadata": {
        "id": "MSNZuWl9Hupd"
      },
      "source": [
        "Есть одна тенденция: пороговая функция активации и сигмоида (обычно всё же только сигмоида) чаще используются именно на **выходном слое** нейросети в задаче классификации -- ими предсказывают вероятности объектов принадлежать одному из классов, в то время как продвинутые функции активации (ReLU и те, что будут дальше) используются внутри нейросети, то есть в **скрытых слоях**."
      ]
    },
    {
      "cell_type": "markdown",
      "metadata": {
        "id": "_X3lDHElHupo"
      },
      "source": [
        "Нужно понимать, что ReLU не может вернуть отрицательные числа."
      ]
    },
    {
      "cell_type": "markdown",
      "metadata": {
        "id": "sET710OVHupp"
      },
      "source": [
        "**Плюсы ReLU:**"
      ]
    },
    {
      "cell_type": "markdown",
      "metadata": {
        "id": "HY3iXGBWHupr"
      },
      "source": [
        "* дифференцируемая (с доопределе\n",
        "нием в нуле)\n",
        "* нет проблемы затухающих градиентов, как в сигмоиде"
      ]
    },
    {
      "cell_type": "markdown",
      "metadata": {
        "id": "Nr_3XwTWHups"
      },
      "source": [
        "**Возможные минусы ReLU:**"
      ]
    },
    {
      "cell_type": "markdown",
      "metadata": {
        "id": "0TAwVdRXHupt"
      },
      "source": [
        "* не центрирована около 0 (может мешать скорости сходимсти)\n",
        "* зануляет все отрицательные входы, тем самым веса у занулённых нейронов могут часто *не обновляться*, эту проблему иногда называют *мёртвые нейроны*"
      ]
    },
    {
      "cell_type": "markdown",
      "metadata": {
        "id": "Vj1JGXTPHupu"
      },
      "source": [
        "С последней проблемой можно побороться, а именно:"
      ]
    },
    {
      "cell_type": "markdown",
      "metadata": {
        "id": "Yn2taDMNHupv"
      },
      "source": [
        "<h2 style=\"text-align: center;\"><b>Нейрон с LeakyReLU (Leaky Recitified Linear Unit)</b></h2>  "
      ]
    },
    {
      "cell_type": "markdown",
      "metadata": {
        "id": "iCRBWooSHupx"
      },
      "source": [
        "LeakyReLU очень слабо отличается от ReLU, но часто помогает сети обучаться быстрее, поскольку нет проблемы \"мёртвых нейронов\":\n",
        "\n",
        "\\begin{equation*}\n",
        "LeakyReLU(x) =\n",
        " \\begin{cases}\n",
        "   \\alpha x, &\\text{$x \\le 0$}\\\\\n",
        "   x, &\\text{$x \\gt 0$}\n",
        " \\end{cases}\n",
        "\\end{equation*}\n",
        "\n",
        "где $\\alpha$ -- маленькое число от 0 до 1.\n",
        "\n",
        "Производная здесь берётся так же, но вместо нуля будет $\\alpha$:\n",
        "\n",
        "\\begin{equation*}\n",
        "LeakyReLU'(x) = \n",
        " \\begin{cases}\n",
        "   \\alpha, &\\text{$x \\le 0$}\\\\\n",
        "   1, &\\text{$x \\gt 0$}\n",
        " \\end{cases}\n",
        "\\end{equation*}\n",
        "\n",
        "График этой функции:\n",
        "\n",
        "<img src=\"https://cdn-images-1.medium.com/max/1600/0*UtLlZJ80TMIM7kXk.\" width=400 height=300>\n",
        "\n",
        "Подставим LeakyReLu в Loss:\n",
        "\n",
        "$$\n",
        "Loss(\\hat{y}, y) = \\frac{1}{2n}\\sum_{i=1}^{n} (\\hat{y_i} - y_i)^2 = \\frac{1}{2n}\\sum_{i=1}^{n} (LeakyReLU(w \\cdot X_i) - y_i)^2 =\n",
        "\\begin{equation*}\n",
        "\\frac{1}{2n}\\sum_{i=1}^{n} \n",
        " \\begin{cases}\n",
        "   (\\alpha \\cdot w \\cdot X_i - y_i)^2, &{w \\cdot X_i \\le 0}\\\\\n",
        "   (w \\cdot X_i - y_i)^2, &{w \\cdot X_i \\gt 0}\n",
        " \\end{cases}\n",
        "\\end{equation*}\n",
        "$$  \n",
        "\n",
        "Формула для обновления весов при градиентном спуске:\n",
        "\n",
        "$$ \\frac{\\partial Loss}{\\partial w} = \\begin{equation*}\n",
        "\\frac{1}{n}\\sum_{i=1}^{n} \n",
        " \\begin{cases}\n",
        "   \\alpha X_i^T (w \\cdot X_i - y), &{w \\cdot X_i \\le 0}\\\\\n",
        "    X_i^T (w \\cdot X_i - y), &{w \\cdot X_i \\gt 0}\n",
        " \\end{cases}\n",
        "\\end{equation*}$$\n",
        "\n",
        "* Реализуйте LeakyReLU и её производную:"
      ]
    },
    {
      "cell_type": "code",
      "metadata": {
        "id": "EvvL-J5Tg733"
      },
      "source": [
        "def leaky_relu(x, alpha=0.01):\n",
        "    \"\"\"LeakyReLU-функция\"\"\"\n",
        "    return alpha * x if x <= 0 else x"
      ],
      "execution_count": null,
      "outputs": []
    },
    {
      "cell_type": "code",
      "metadata": {
        "id": "An5RxMX_g736"
      },
      "source": [
        "def leaky_relu_derivative(x, alpha=0.01):\n",
        "    \"\"\"Производная LeakyReLU\"\"\"\n",
        "    return alpha if x <= 0 else 1"
      ],
      "execution_count": null,
      "outputs": []
    },
    {
      "cell_type": "markdown",
      "metadata": {
        "id": "4pVZT9RZg738"
      },
      "source": [
        "Теперь нужно написать нейрон с LeakyReLU функцией активации. Здесь всё очень похоже на перцептрон, но будут по-другому обновляться веса и другая функция активации:"
      ]
    },
    {
      "cell_type": "code",
      "metadata": {
        "id": "UM7qpfxPg739"
      },
      "source": [
        "class NeuronLeakyReLU:\n",
        "    def __init__(self, w=None, b=0, alpha = 0.01):\n",
        "        \"\"\"\n",
        "        :param: w -- вектор весов\n",
        "        :param: b -- смещение\n",
        "        \"\"\"\n",
        "        self.w = w\n",
        "        self.b = b\n",
        "        self.alpha = alpha\n",
        "        \n",
        "        \n",
        "    def activate(self, x):\n",
        "        return leaky_relu(x, self.alpha)\n",
        "        \n",
        "        \n",
        "    def forward_pass(self, X):\n",
        "        \"\"\"\n",
        "        Рассчитывает ответ нейрона при предъявлении набора объектов\n",
        "        :param: X -- матрица примеров размера (n, m), каждая строка - отдельный объект\n",
        "        :return: вектор размера (n, 1) из нулей и единиц с ответами нейрона \n",
        "        \"\"\"\n",
        "        n = X.shape[0]\n",
        "        y_pred = np.zeros((n, 1))  # y_pred == y_predicted - предсказанные классы\n",
        "        X = X.to_numpy()\n",
        "        for i in range(X.shape[0]):\n",
        "          y_pred[i] = self.activate(X[i].dot(self.w) + self.b)\n",
        "        return y_pred\n",
        "        \n",
        "    \n",
        "    def backward_pass(self, X, y, y_pred, learning_rate=0.005):\n",
        "        \"\"\"\n",
        "        Обновляет значения весов нейрона в соответствии с этим объектом\n",
        "        :param: X -- матрица входов размера (n, m)\n",
        "                y -- вектор правильных ответов размера (n, 1)\n",
        "                learning_rate - \"скорость обучения\" (символ alpha в формулах выше)\n",
        "        В этом методе ничего возвращать не нужно, только правильно поменять веса\n",
        "        с помощью градиентного спуска.\n",
        "        \"\"\"\n",
        "        n = len(y)\n",
        "        y = np.array(y).reshape(-1, 1)\n",
        "        X = X.to_numpy()\n",
        "        delta_w = np.transpose(X).dot(y_pred - y) / n\n",
        "        delta_b = np.sum(y_pred - y) / n\n",
        "        self.w -= learning_rate * delta_w\n",
        "        self.b -= learning_rate * delta_b\n",
        "    \n",
        "    \n",
        "    def fit(self, X, y, num_epochs=300):\n",
        "        \"\"\"\n",
        "        Спускаемся в минимум\n",
        "        :param: X -- матрица объектов размера (n, m)\n",
        "                y -- вектор правильных ответов размера (n, 1)\n",
        "                num_epochs -- количество итераций обучения\n",
        "        :return: losses -- вектор значений функции потерь\n",
        "        \"\"\"\n",
        "#         self.w = np.zeros((X.shape[1], 1))  # столбец (m, 1)\n",
        "#         self.b = 0  # смещение (число)\n",
        "        Loss_values = []  # значения функции потерь на различных итерациях обновления весов\n",
        "        \n",
        "        for i in range(num_epochs):\n",
        "          y_pred = self.forward_pass(X)\n",
        "          Loss_values.append(Loss(y_pred,y))\n",
        "          self.backward_pass(X, y, y_pred)\n",
        "        \n",
        "        return Loss_values"
      ],
      "execution_count": null,
      "outputs": []
    },
    {
      "cell_type": "code",
      "metadata": {
        "colab": {
          "base_uri": "https://localhost:8080/",
          "height": 555
        },
        "id": "LbGFWNIlBjAv",
        "outputId": "e0c6bd38-5c03-4c54-99ff-0a0a98298b37"
      },
      "source": [
        "%%time\n",
        "\n",
        "neuron = NeuronLeakyReLU(w=np.random.rand(x_train.shape[1], 1), b=np.random.rand(1))\n",
        "Loss_values = neuron.fit(x_train, y_train, num_epochs=10000)\n",
        "\n",
        "plt.figure(figsize=(10, 8))\n",
        "plt.plot(Loss_values)\n",
        "plt.title('Функция потерь', fontsize=15)\n",
        "plt.xlabel('номер итерации', fontsize=14)\n",
        "plt.ylabel('$Loss(\\hat{y}, y)$', fontsize=14)\n",
        "plt.show()"
      ],
      "execution_count": null,
      "outputs": [
        {
          "output_type": "display_data",
          "data": {
            "image/png": "[encoded data removed]",
            "text/plain": [
              "<Figure size 720x576 with 1 Axes>"
            ]
          },
          "metadata": {
            "tags": [],
            "needs_background": "light"
          }
        },
        {
          "output_type": "stream",
          "text": [
            "CPU times: user 28.3 s, sys: 0 ns, total: 28.3 s\n",
            "Wall time: 28.3 s\n"
          ],
          "name": "stdout"
        }
      ]
    },
    {
      "cell_type": "markdown",
      "metadata": {
        "id": "IgTac_vFHuq8"
      },
      "source": [
        "**Плюсы LeakyReLU:**"
      ]
    },
    {
      "cell_type": "markdown",
      "metadata": {
        "id": "iAw-tzuLHuq9"
      },
      "source": [
        "* дифференцируемая (с доопределнием в нуле)\n",
        "* нет проблемы затухающих градиентов, как в сигмоиде\n",
        "* нет проблемы \"мёртвых нейронов\", как в ReLU"
      ]
    },
    {
      "cell_type": "markdown",
      "metadata": {
        "id": "CMUGymwyHuq_"
      },
      "source": [
        "**Возможные минусы LeakyReLU:**"
      ]
    },
    {
      "cell_type": "markdown",
      "metadata": {
        "id": "uQyqD8-LHurA"
      },
      "source": [
        "* не центрирована около 0 (может мешать скорости сходимсти)\n",
        "* немного не устойчива к \"шуму\" (см. лекции Стэнфорда)"
      ]
    },
    {
      "cell_type": "markdown",
      "metadata": {
        "id": "e7k07EGyHurB"
      },
      "source": [
        "<h2 style=\"text-align: center;\"><b>Нейрон с ELU (Exponential Linear Unit)</a></b></h2>  "
      ]
    },
    {
      "cell_type": "markdown",
      "metadata": {
        "id": "dWH3Zk2zHurB"
      },
      "source": [
        "ELU -- не так давно предложенная (в 2015 году) функция активации, которая, как говорят авторы статьи, лучше LeakyReLU. Вот формула ELU:\n",
        "\n",
        "\\begin{equation*}\n",
        "ELU(\\alpha, x) =\n",
        " \\begin{cases}\n",
        "   \\alpha (e^x - 1), &\\text{$x \\le 0$}\\\\\n",
        "   x, &\\text{$x \\gt 0$}\n",
        " \\end{cases}\n",
        "\\end{equation*}\n",
        "\n",
        "где $\\alpha$ -- маленькое число от 0 до 1.\n",
        "\n",
        "Производная здесь берётся так же, но вместо нуля будет $\\alpha$:\n",
        "\n",
        "\\begin{equation*}\n",
        "ELU'(x) = \n",
        " \\begin{cases}\n",
        "   ELU(\\alpha, x) + \\alpha, &\\text{$x \\le 0$}\\\\\n",
        "   1, &\\text{$x \\gt 0$}\n",
        " \\end{cases}\n",
        "\\end{equation*}\n",
        "\n",
        "Здесь в производной использован постой трюк -- сделано $- \\alpha + \\alpha$, чтобы вычислять было проще.\n",
        "\n",
        "График этой функции:\n",
        "\n",
        "<img src=\"http://p0.ifengimg.com/pmop/2017/0907/A004001DD141881BFD8AD62E5D31028C3BE3FAD1_size14_w446_h354.png\" width=500 height=400>\n",
        "\n",
        "Подставим LeakyReLu в Loss:\n",
        "\n",
        "$$Loss(\\hat{y}, y) = \\frac{1}{2n}\\sum_{i=1}^{n} (\\hat{y_i} - y_i)^2 = \\frac{1}{2n}\\sum_{i=1}^{n} (ELU(\\alpha, w \\cdot X_i) - y_i)^2 = \\begin{equation*}\n",
        "\\frac{1}{2n}\\sum_{i=1}^{n} \n",
        " \\begin{cases}\n",
        "   (\\alpha (e^{w \\cdot X_i} - 1) - y_i)^2, &{w \\cdot X_i \\le 0}\\\\\n",
        "   (w \\cdot X_i - y_i)^2, &{w \\cdot X_i \\gt 0}\n",
        " \\end{cases}\n",
        "\\end{equation*}$$  \n",
        "\n",
        "Здесь вам нужно выписать самим град спуск для весов. Брать производную \"в лоб\" некрасиво и неудобно. Нужно воспользоваться **правилом цепочки**, оно же **правило взятия производной сложной функции**:\n",
        "\n",
        "$$ \\frac{\\partial Loss}{\\partial w} = \\begin{equation*}\n",
        "\\frac{1}{n}\\sum_{i=1}^{n} \n",
        " \\begin{cases}\n",
        "   \\alpha X_i^T \\cdot e^{w \\cdot X_i}(e^{w \\cdot X_i}-1) - y_i), &{w \\cdot X_i \\le 0}\\\\\n",
        "   X_i^T (w \\cdot X_i - y_i), &{w \\cdot X_i \\gt 0}\n",
        " \\end{cases}\n",
        "\\end{equation*}$$\n",
        "\n",
        "* Реализуйте ELU и её производную:"
      ]
    },
    {
      "cell_type": "code",
      "metadata": {
        "id": "Mc6fsB5HzR2Q"
      },
      "source": [
        "def eelu(x, alpha=0.01):\n",
        "    \"\"\"ELU-функция\"\"\"\n",
        "    #x = x.astype('float')\n",
        "    return alpha * (np.exp(x) - 1) if x <= 0 else x"
      ],
      "execution_count": null,
      "outputs": []
    },
    {
      "cell_type": "code",
      "metadata": {
        "id": "lMSIjprszR2T"
      },
      "source": [
        "def elu_derivative(x, alpha=0.01):\n",
        "    \"\"\"Производная LeakyReLU\"\"\"\n",
        "    return eelu(x) + alpha if x <= 0 else 1"
      ],
      "execution_count": null,
      "outputs": []
    },
    {
      "cell_type": "markdown",
      "metadata": {
        "id": "P5p1eDNGzR2V"
      },
      "source": [
        "Теперь нужно написать нейрон с LeakyReLU функцией активации. Здесь всё очень похоже на перцептрон, но будут по-другому обновляться веса и другая функция активации:"
      ]
    },
    {
      "cell_type": "code",
      "metadata": {
        "id": "3cxpveqozR2X"
      },
      "source": [
        "class NeuronELU:\n",
        "    def __init__(self, w=None, b=0):\n",
        "        \"\"\"\n",
        "        :param: w -- вектор весов\n",
        "        :param: b -- смещение\n",
        "        \"\"\"\n",
        "        self.w = w\n",
        "        self.b = b\n",
        "        \n",
        "        \n",
        "    def activate(self, x):\n",
        "        return eelu(x.astype('float'))\n",
        "        \n",
        "        \n",
        "    def forward_pass(self, X):\n",
        "        \"\"\"\n",
        "        Рассчитывает ответ нейрона при предъявлении набора объектов\n",
        "        :param: X -- матрица примеров размера (n, m), каждая строка - отдельный объект\n",
        "        :return: вектор размера (n, 1) из нулей и единиц с ответами нейрона \n",
        "        \"\"\"\n",
        "        n = X.shape[0]\n",
        "        y_pred = np.zeros((n, 1))  # y_pred == y_predicted - предсказанные классы\n",
        "        X = X.to_numpy()\n",
        "        for i in range(n):\n",
        "          y_pred[i] = self.activate(X[i].dot(self.w) + self.b)\n",
        "          \n",
        "        return y_pred\n",
        "        \n",
        "    \n",
        "    def backward_pass(self, X, y, y_pred, learning_rate=0.005):\n",
        "        \"\"\"\n",
        "        Обновляет значения весов нейрона в соответствии с этим объектом\n",
        "        :param: X -- матрица входов размера (n, m)\n",
        "                y -- вектор правильных ответов размера (n, 1)\n",
        "                learning_rate - \"скорость обучения\" (символ alpha в формулах выше)\n",
        "        В этом методе ничего возвращать не нужно, только правильно поменять веса\n",
        "        с помощью градиентного спуска.\n",
        "        \"\"\"\n",
        "        n = len(y)\n",
        "        y = np.array(y).reshape(-1, 1)\n",
        "        X = X.to_numpy()\n",
        "        delta_w = 0\n",
        "        delta_b = 0\n",
        "        for i in range(n):\n",
        "          if y_pred[i] > 0:\n",
        "            delta_w += X[i] * (y_pred[i] - y[i])\n",
        "            delta_b += y_pred[i] - y[i]\n",
        "          else:\n",
        "            delta_w += X[i] * np.exp(X[i].dot(self.w)) * (y_pred[i] - y[i]) \n",
        "            delta_b += np.exp(X[i].dot(self.w)) * (y_pred[i] - y[i])   \n",
        "        delta_w /= n\n",
        "        delta_b /= n\n",
        "        delta_w = delta_w.reshape(-1, 1)\n",
        "        self.w -= learning_rate * delta_w\n",
        "        self.b -= learning_rate * delta_b\n",
        "    \n",
        "    \n",
        "    def fit(self, X, y, num_epochs=300):\n",
        "        \"\"\"\n",
        "        Спускаемся в минимум\n",
        "        :param: X -- матрица объектов размера (n, m)\n",
        "                y -- вектор правильных ответов размера (n, 1)\n",
        "                num_epochs -- количество итераций обучения\n",
        "        :return: losses -- вектор значений функции потерь\n",
        "        \"\"\"\n",
        "#         self.w = np.zeros((X.shape[1], 1))  # столбец (m, 1)\n",
        "#         self.b = 0  # смещение (число)\n",
        "        Loss_values = []  # значения функции потерь на различных итерациях обновления весов\n",
        "        \n",
        "        for i in range(num_epochs):\n",
        "          y_pred = self.forward_pass(X)\n",
        "          Loss_values.append(Loss(y_pred,y))\n",
        "          self.backward_pass(X, y, y_pred)\n",
        "        \n",
        "        return Loss_values"
      ],
      "execution_count": null,
      "outputs": []
    },
    {
      "cell_type": "code",
      "metadata": {
        "colab": {
          "base_uri": "https://localhost:8080/",
          "height": 555
        },
        "id": "3MXP8wSMJYeE",
        "outputId": "6b4da326-a62b-4a76-939c-df92afdbafa7"
      },
      "source": [
        "%%time\n",
        "\n",
        "neuron = NeuronELU(w=np.random.rand(x_train.shape[1], 1), b=np.random.rand(1))\n",
        "Loss_values = neuron.fit(x_train, y_train, num_epochs=10000)\n",
        "\n",
        "plt.figure(figsize=(10, 8))\n",
        "plt.plot(Loss_values)\n",
        "plt.title('Функция потерь', fontsize=15)\n",
        "plt.xlabel('номер итерации', fontsize=14)\n",
        "plt.ylabel('$Loss(\\hat{y}, y)$', fontsize=14)\n",
        "plt.show()"
      ],
      "execution_count": null,
      "outputs": [
        {
          "output_type": "display_data",
          "data": {
            "image/png": "[encoded data removed]",
            "text/plain": [
              "<Figure size 720x576 with 1 Axes>"
            ]
          },
          "metadata": {
            "tags": [],
            "needs_background": "light"
          }
        },
        {
          "output_type": "stream",
          "text": [
            "CPU times: user 1min 30s, sys: 0 ns, total: 1min 30s\n",
            "Wall time: 1min 30s\n"
          ],
          "name": "stdout"
        }
      ]
    },
    {
      "cell_type": "code",
      "metadata": {
        "id": "oN0OBN5cM9Ab"
      },
      "source": [
        ""
      ],
      "execution_count": null,
      "outputs": []
    },
    {
      "cell_type": "markdown",
      "metadata": {
        "id": "MYiGj1wnHur4"
      },
      "source": [
        "**Плюсы ELU:**"
      ]
    },
    {
      "cell_type": "markdown",
      "metadata": {
        "id": "xOGAh06uHur5"
      },
      "source": [
        "* дифференцируемая (с доопределнием в нуле)\n",
        "* нет проблемы затухающих градиентов, как в сигмоиде\n",
        "* нет проблемы \"мёртвых нейронов\", как в ReLU\n",
        "* более устойчива к \"шуму\" (см. лекции Стэнфорда)"
      ]
    },
    {
      "cell_type": "markdown",
      "metadata": {
        "id": "r4doD89fHur6"
      },
      "source": [
        "**Возможные минусы ELU:**"
      ]
    },
    {
      "cell_type": "markdown",
      "metadata": {
        "id": "AO4bvkKGHur6"
      },
      "source": [
        "* не очень хорошо центрирована около 0 (может мешать скорости сходимсти)\n",
        "* вычислительно дольше, чем ReLU и LeakyReLU"
      ]
    },
    {
      "cell_type": "code",
      "metadata": {
        "id": "nnlVvxj4rTw0"
      },
      "source": [
        "downloaded2 = drive.CreateFile({'id':\"1ImzBSSaIHBL79QkcxSSSPpU1ux5aQuvc\"}) \r\n",
        "downloaded2.GetContentFile('voice.csv')"
      ],
      "execution_count": null,
      "outputs": []
    },
    {
      "cell_type": "code",
      "metadata": {
        "id": "BdTwI-qSrW_6"
      },
      "source": [
        "voice_data = pd.read_csv('voice.csv')"
      ],
      "execution_count": null,
      "outputs": []
    },
    {
      "cell_type": "code",
      "metadata": {
        "id": "8cE3zzLSrbBV"
      },
      "source": [
        "X = voice_data.drop(columns=['label'])\r\n",
        "X = (X - X.min()) / (X.max() - X.min())\r\n",
        "\r\n",
        "Y = voice_data['label'].apply(lambda x: 1 if x == 'male' else 0)"
      ],
      "execution_count": null,
      "outputs": []
    },
    {
      "cell_type": "code",
      "metadata": {
        "id": "g04yAOCcriBb"
      },
      "source": [
        "X_train, X_test,y_train,y_test = train_test_split(X, Y,\r\n",
        "                                                  test_size = 0.3)"
      ],
      "execution_count": null,
      "outputs": []
    },
    {
      "cell_type": "code",
      "metadata": {
        "id": "8eDLMXVlyc4B"
      },
      "source": [
        "from sklearn.metrics import accuracy_score"
      ],
      "execution_count": null,
      "outputs": []
    },
    {
      "cell_type": "code",
      "metadata": {
        "colab": {
          "base_uri": "https://localhost:8080/"
        },
        "id": "C4poxM1bsFrb",
        "outputId": "9c169e68-477a-4e0d-f5c4-b3b24c6043ae"
      },
      "source": [
        "classes = [NeuronReLU, NeuronLeakyReLU, NeuronELU]\r\n",
        "for class_n in classes:\r\n",
        "  print(class_n)\r\n",
        "  neuron = class_n(w=np.random.rand(X_train.shape[1], 1), b=np.random.rand(1))\r\n",
        "  neuron.fit(X_train, y_train, num_epochs=5000)\r\n",
        "  y_pred = neuron.forward_pass(X_test).round()\r\n",
        "  print(accuracy_score(y_test.astype('float'), y_pred))\r\n",
        "\r\n"
      ],
      "execution_count": null,
      "outputs": [
        {
          "output_type": "stream",
          "text": [
            "<class '__main__.NeuronReLU'>\n",
            "0.9011566771819137\n",
            "<class '__main__.NeuronLeakyReLU'>\n",
            "0.92534174553102\n",
            "<class '__main__.NeuronELU'>\n",
            "0.8811777076761304\n"
          ],
          "name": "stdout"
        }
      ]
    },
    {
      "cell_type": "code",
      "metadata": {
        "id": "ibTHZawHvoAC"
      },
      "source": [
        ""
      ],
      "execution_count": null,
      "outputs": []
    }
  ]
}